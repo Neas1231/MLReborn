{
 "cells": [
  {
   "cell_type": "code",
   "execution_count": 1,
   "id": "5a848ba7-5b71-456b-abb2-31f186b3fba2",
   "metadata": {},
   "outputs": [
    {
     "name": "stderr",
     "output_type": "stream",
     "text": [
      "Cloning into 'nlp_course'...\n",
      "Updating files:  81% (293/358)\n",
      "Updating files:  82% (294/358)\n",
      "Updating files:  83% (298/358)\n",
      "Updating files:  84% (301/358)\n",
      "Updating files:  85% (305/358)\n",
      "Updating files:  86% (308/358)\n",
      "Updating files:  87% (312/358)\n",
      "Updating files:  88% (316/358)\n",
      "Updating files:  89% (319/358)\n",
      "Updating files:  90% (323/358)\n",
      "Updating files:  91% (326/358)\n",
      "Updating files:  92% (330/358)\n",
      "Updating files:  93% (333/358)\n",
      "Updating files:  94% (337/358)\n",
      "Updating files:  95% (341/358)\n",
      "Updating files:  96% (344/358)\n",
      "Updating files:  97% (348/358)\n",
      "Updating files:  98% (351/358)\n",
      "Updating files:  99% (355/358)\n",
      "Updating files: 100% (358/358)\n",
      "Updating files: 100% (358/358), done.\n"
     ]
    }
   ],
   "source": [
    "!git clone https://github.com/yandexdataschool/nlp_course.git"
   ]
  }
 ],
 "metadata": {
  "kernelspec": {
   "display_name": "Python 3 (ipykernel)",
   "language": "python",
   "name": "python3"
  },
  "language_info": {
   "codemirror_mode": {
    "name": "ipython",
    "version": 3
   },
   "file_extension": ".py",
   "mimetype": "text/x-python",
   "name": "python",
   "nbconvert_exporter": "python",
   "pygments_lexer": "ipython3",
   "version": "3.11.7"
  }
 },
 "nbformat": 4,
 "nbformat_minor": 5
}
