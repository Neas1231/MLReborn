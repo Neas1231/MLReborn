{
 "cells": [
  {
   "cell_type": "code",
   "execution_count": 1,
   "id": "initial_id",
   "metadata": {
    "collapsed": true,
    "ExecuteTime": {
     "end_time": "2024-07-01T09:34:40.118254Z",
     "start_time": "2024-07-01T09:34:40.064241Z"
    }
   },
   "outputs": [
    {
     "data": {
      "text/plain": "                      datetime       shop           card  bonus_earned  \\\n0      2021-07-13 12:56:09.000   Аптека 2  2000200195023            51   \n1      2021-07-30 10:42:00.000   Аптека 2  2000200193494            57   \n2      2021-10-11 12:55:23.000   Аптека 2  2000200199106            92   \n3      2021-10-14 14:48:56.000   Аптека 2  2000200168768             1   \n4      2021-10-20 11:09:39.000   Аптека 2  2000200226314           101   \n...                        ...        ...            ...           ...   \n38481  2022-06-09 20:45:32.000  Аптека 11  2000200244974            32   \n38482  2022-06-09 20:55:32.000  Аптека 11  2000200239246            38   \n38483  2022-06-09 20:59:41.000  Аптека 11  2000200238867            57   \n38484  2022-06-09 21:07:59.000  Аптека 11  2000200165811             2   \n38485  2022-06-09 21:49:45.000  Аптека 11  2000200241331             2   \n\n       bonus_spent  summ  summ_with_disc                    doc_id  \n0                0  3400            3400     15#2002741#65938#2_29  \n1                0   747             747      15#2002972#65955#2_5  \n2              253  3077            3077     15#2004060#66028#2_29  \n3                0    54              54     15#2004107#66031#2_57  \n4                0  1733            1733     15#2004192#66037#2_16  \n...            ...   ...             ...                       ...  \n38481            0  1341            1341  15#18001790#66269#18_120  \n38482            0  1445            1445  15#18001790#66269#18_123  \n38483            0  1912            1912  15#18001790#66269#18_126  \n38484            0   278             278  15#18001790#66269#18_129  \n38485            0   290             290  15#18001790#66269#18_137  \n\n[38486 rows x 8 columns]",
      "text/html": "<div>\n<style scoped>\n    .dataframe tbody tr th:only-of-type {\n        vertical-align: middle;\n    }\n\n    .dataframe tbody tr th {\n        vertical-align: top;\n    }\n\n    .dataframe thead th {\n        text-align: right;\n    }\n</style>\n<table border=\"1\" class=\"dataframe\">\n  <thead>\n    <tr style=\"text-align: right;\">\n      <th></th>\n      <th>datetime</th>\n      <th>shop</th>\n      <th>card</th>\n      <th>bonus_earned</th>\n      <th>bonus_spent</th>\n      <th>summ</th>\n      <th>summ_with_disc</th>\n      <th>doc_id</th>\n    </tr>\n  </thead>\n  <tbody>\n    <tr>\n      <th>0</th>\n      <td>2021-07-13 12:56:09.000</td>\n      <td>Аптека 2</td>\n      <td>2000200195023</td>\n      <td>51</td>\n      <td>0</td>\n      <td>3400</td>\n      <td>3400</td>\n      <td>15#2002741#65938#2_29</td>\n    </tr>\n    <tr>\n      <th>1</th>\n      <td>2021-07-30 10:42:00.000</td>\n      <td>Аптека 2</td>\n      <td>2000200193494</td>\n      <td>57</td>\n      <td>0</td>\n      <td>747</td>\n      <td>747</td>\n      <td>15#2002972#65955#2_5</td>\n    </tr>\n    <tr>\n      <th>2</th>\n      <td>2021-10-11 12:55:23.000</td>\n      <td>Аптека 2</td>\n      <td>2000200199106</td>\n      <td>92</td>\n      <td>253</td>\n      <td>3077</td>\n      <td>3077</td>\n      <td>15#2004060#66028#2_29</td>\n    </tr>\n    <tr>\n      <th>3</th>\n      <td>2021-10-14 14:48:56.000</td>\n      <td>Аптека 2</td>\n      <td>2000200168768</td>\n      <td>1</td>\n      <td>0</td>\n      <td>54</td>\n      <td>54</td>\n      <td>15#2004107#66031#2_57</td>\n    </tr>\n    <tr>\n      <th>4</th>\n      <td>2021-10-20 11:09:39.000</td>\n      <td>Аптека 2</td>\n      <td>2000200226314</td>\n      <td>101</td>\n      <td>0</td>\n      <td>1733</td>\n      <td>1733</td>\n      <td>15#2004192#66037#2_16</td>\n    </tr>\n    <tr>\n      <th>...</th>\n      <td>...</td>\n      <td>...</td>\n      <td>...</td>\n      <td>...</td>\n      <td>...</td>\n      <td>...</td>\n      <td>...</td>\n      <td>...</td>\n    </tr>\n    <tr>\n      <th>38481</th>\n      <td>2022-06-09 20:45:32.000</td>\n      <td>Аптека 11</td>\n      <td>2000200244974</td>\n      <td>32</td>\n      <td>0</td>\n      <td>1341</td>\n      <td>1341</td>\n      <td>15#18001790#66269#18_120</td>\n    </tr>\n    <tr>\n      <th>38482</th>\n      <td>2022-06-09 20:55:32.000</td>\n      <td>Аптека 11</td>\n      <td>2000200239246</td>\n      <td>38</td>\n      <td>0</td>\n      <td>1445</td>\n      <td>1445</td>\n      <td>15#18001790#66269#18_123</td>\n    </tr>\n    <tr>\n      <th>38483</th>\n      <td>2022-06-09 20:59:41.000</td>\n      <td>Аптека 11</td>\n      <td>2000200238867</td>\n      <td>57</td>\n      <td>0</td>\n      <td>1912</td>\n      <td>1912</td>\n      <td>15#18001790#66269#18_126</td>\n    </tr>\n    <tr>\n      <th>38484</th>\n      <td>2022-06-09 21:07:59.000</td>\n      <td>Аптека 11</td>\n      <td>2000200165811</td>\n      <td>2</td>\n      <td>0</td>\n      <td>278</td>\n      <td>278</td>\n      <td>15#18001790#66269#18_129</td>\n    </tr>\n    <tr>\n      <th>38485</th>\n      <td>2022-06-09 21:49:45.000</td>\n      <td>Аптека 11</td>\n      <td>2000200241331</td>\n      <td>2</td>\n      <td>0</td>\n      <td>290</td>\n      <td>290</td>\n      <td>15#18001790#66269#18_137</td>\n    </tr>\n  </tbody>\n</table>\n<p>38486 rows × 8 columns</p>\n</div>"
     },
     "execution_count": 1,
     "metadata": {},
     "output_type": "execute_result"
    }
   ],
   "source": [
    "import pandas as pd\n",
    "df = pd.read_csv('./apteka.csv',sep=';')\n",
    "df"
   ]
  },
  {
   "cell_type": "markdown",
   "source": [
    "### Словарик\n",
    "datetime - дата время покупки\n",
    "shop - магазин где куплено\n",
    "card - номер бонусной карты (есть хеши какие-то)\n",
    "bonus_earned - получено бонусов\n",
    "bonus_spent - потрачено бонусов\n",
    "summ - цена\n",
    "summ_with_disc - цена со скидкой\n",
    "doc_id - наверн Id покупателя"
   ],
   "metadata": {
    "collapsed": false
   },
   "id": "9224340cf6c97dbe"
  },
  {
   "cell_type": "markdown",
   "source": [
    "### Посмотрим какие типы данных"
   ],
   "metadata": {
    "collapsed": false
   },
   "id": "899cbe1e61d42496"
  },
  {
   "cell_type": "code",
   "outputs": [
    {
     "name": "stdout",
     "output_type": "stream",
     "text": [
      "<class 'pandas.core.frame.DataFrame'>\n",
      "RangeIndex: 38486 entries, 0 to 38485\n",
      "Data columns (total 8 columns):\n",
      " #   Column          Non-Null Count  Dtype \n",
      "---  ------          --------------  ----- \n",
      " 0   datetime        38486 non-null  object\n",
      " 1   shop            38486 non-null  object\n",
      " 2   card            38486 non-null  object\n",
      " 3   bonus_earned    38486 non-null  int64 \n",
      " 4   bonus_spent     38486 non-null  int64 \n",
      " 5   summ            38486 non-null  int64 \n",
      " 6   summ_with_disc  38486 non-null  int64 \n",
      " 7   doc_id          38486 non-null  object\n",
      "dtypes: int64(4), object(4)\n",
      "memory usage: 2.3+ MB\n"
     ]
    }
   ],
   "source": [
    "df.info()"
   ],
   "metadata": {
    "collapsed": false,
    "ExecuteTime": {
     "end_time": "2024-06-30T16:29:09.255969Z",
     "start_time": "2024-06-30T16:29:09.241926Z"
    }
   },
   "id": "86039126c53c762b",
   "execution_count": 18
  },
  {
   "cell_type": "code",
   "outputs": [
    {
     "name": "stdout",
     "output_type": "stream",
     "text": [
      "<class 'pandas.core.frame.DataFrame'>\n",
      "RangeIndex: 38486 entries, 0 to 38485\n",
      "Data columns (total 8 columns):\n",
      " #   Column          Non-Null Count  Dtype         \n",
      "---  ------          --------------  -----         \n",
      " 0   datetime        38486 non-null  datetime64[ns]\n",
      " 1   shop            38486 non-null  object        \n",
      " 2   card            38486 non-null  object        \n",
      " 3   bonus_earned    38486 non-null  int64         \n",
      " 4   bonus_spent     38486 non-null  int64         \n",
      " 5   summ            38486 non-null  int64         \n",
      " 6   summ_with_disc  38486 non-null  int64         \n",
      " 7   doc_id          38486 non-null  object        \n",
      "dtypes: datetime64[ns](1), int64(4), object(3)\n",
      "memory usage: 2.3+ MB\n"
     ]
    }
   ],
   "source": [
    "df['datetime'] = pd.to_datetime(df['datetime'])\n",
    "df.info()"
   ],
   "metadata": {
    "collapsed": false,
    "ExecuteTime": {
     "end_time": "2024-06-30T16:29:55.894973Z",
     "start_time": "2024-06-30T16:29:55.878549Z"
    }
   },
   "id": "3072b1a84be8eea8",
   "execution_count": 20
  },
  {
   "cell_type": "markdown",
   "source": [
    "### Посмотрим на дубликаты"
   ],
   "metadata": {
    "collapsed": false
   },
   "id": "a16cfb02675eabcd"
  },
  {
   "cell_type": "code",
   "outputs": [
    {
     "data": {
      "text/plain": "15#11009179#66003#11_199    3\n15#17000300#66127#17_51     2\n15#17000057#66115#17_17     2\n15#7000547#66160#7_68       2\n15#7000547#66160#7_78       2\n                           ..\n15#11010453#66056#11_1      1\n15#11010453#66056#11_3      1\n15#15002943#66056#15_1      1\n15#13004122#66056#13_11     1\n15#18001790#66269#18_137    1\nName: doc_id, Length: 38480, dtype: int64"
     },
     "execution_count": 7,
     "metadata": {},
     "output_type": "execute_result"
    }
   ],
   "source": [
    "df['doc_id'].value_counts()"
   ],
   "metadata": {
    "collapsed": false,
    "ExecuteTime": {
     "end_time": "2024-06-30T16:24:11.237116Z",
     "start_time": "2024-06-30T16:24:11.225098Z"
    }
   },
   "id": "65402baea8ea8389",
   "execution_count": 7
  },
  {
   "cell_type": "code",
   "outputs": [
    {
     "data": {
      "text/plain": "                      datetime       shop  \\\n6645   2021-09-16 20:10:48.000   Аптека 7   \n6646   2021-09-16 20:11:28.000   Аптека 7   \n19911  2022-01-06 12:57:45.000  Аптека 10   \n21262  2022-01-18 17:26:16.000  Аптека 10   \n25868  2022-02-20 18:37:47.000   Аптека 4   \n25870  2022-02-20 18:37:53.000   Аптека 4   \n\n                                       card  bonus_earned  bonus_spent  summ  \\\n6645   cf1dcbed-2d3e-4054-a04c-36c88c2e6f63            27            0   943   \n6646   cf1dcbed-2d3e-4054-a04c-36c88c2e6f63            27            0   943   \n19911                         2000200208211            66            0  2207   \n21262                         2000200188902            11            0   371   \n25868  abaee6eb-5569-4081-b8f4-5b0e051605cc            50            0  1676   \n25870  7bf2b55a-347b-4c49-8e25-8e4c0f0c7e50             1            0   130   \n\n       summ_with_disc                    doc_id  \n6645              907  15#11009179#66003#11_199  \n6646              907  15#11009179#66003#11_199  \n19911            2207   15#17000057#66115#17_17  \n21262             371   15#17000300#66127#17_51  \n25868            1676     15#7000547#66160#7_68  \n25870             130     15#7000547#66160#7_78  ",
      "text/html": "<div>\n<style scoped>\n    .dataframe tbody tr th:only-of-type {\n        vertical-align: middle;\n    }\n\n    .dataframe tbody tr th {\n        vertical-align: top;\n    }\n\n    .dataframe thead th {\n        text-align: right;\n    }\n</style>\n<table border=\"1\" class=\"dataframe\">\n  <thead>\n    <tr style=\"text-align: right;\">\n      <th></th>\n      <th>datetime</th>\n      <th>shop</th>\n      <th>card</th>\n      <th>bonus_earned</th>\n      <th>bonus_spent</th>\n      <th>summ</th>\n      <th>summ_with_disc</th>\n      <th>doc_id</th>\n    </tr>\n  </thead>\n  <tbody>\n    <tr>\n      <th>6645</th>\n      <td>2021-09-16 20:10:48.000</td>\n      <td>Аптека 7</td>\n      <td>cf1dcbed-2d3e-4054-a04c-36c88c2e6f63</td>\n      <td>27</td>\n      <td>0</td>\n      <td>943</td>\n      <td>907</td>\n      <td>15#11009179#66003#11_199</td>\n    </tr>\n    <tr>\n      <th>6646</th>\n      <td>2021-09-16 20:11:28.000</td>\n      <td>Аптека 7</td>\n      <td>cf1dcbed-2d3e-4054-a04c-36c88c2e6f63</td>\n      <td>27</td>\n      <td>0</td>\n      <td>943</td>\n      <td>907</td>\n      <td>15#11009179#66003#11_199</td>\n    </tr>\n    <tr>\n      <th>19911</th>\n      <td>2022-01-06 12:57:45.000</td>\n      <td>Аптека 10</td>\n      <td>2000200208211</td>\n      <td>66</td>\n      <td>0</td>\n      <td>2207</td>\n      <td>2207</td>\n      <td>15#17000057#66115#17_17</td>\n    </tr>\n    <tr>\n      <th>21262</th>\n      <td>2022-01-18 17:26:16.000</td>\n      <td>Аптека 10</td>\n      <td>2000200188902</td>\n      <td>11</td>\n      <td>0</td>\n      <td>371</td>\n      <td>371</td>\n      <td>15#17000300#66127#17_51</td>\n    </tr>\n    <tr>\n      <th>25868</th>\n      <td>2022-02-20 18:37:47.000</td>\n      <td>Аптека 4</td>\n      <td>abaee6eb-5569-4081-b8f4-5b0e051605cc</td>\n      <td>50</td>\n      <td>0</td>\n      <td>1676</td>\n      <td>1676</td>\n      <td>15#7000547#66160#7_68</td>\n    </tr>\n    <tr>\n      <th>25870</th>\n      <td>2022-02-20 18:37:53.000</td>\n      <td>Аптека 4</td>\n      <td>7bf2b55a-347b-4c49-8e25-8e4c0f0c7e50</td>\n      <td>1</td>\n      <td>0</td>\n      <td>130</td>\n      <td>130</td>\n      <td>15#7000547#66160#7_78</td>\n    </tr>\n  </tbody>\n</table>\n</div>"
     },
     "execution_count": 5,
     "metadata": {},
     "output_type": "execute_result"
    }
   ],
   "source": [
    "df[df['doc_id'].duplicated()]"
   ],
   "metadata": {
    "collapsed": false,
    "ExecuteTime": {
     "end_time": "2024-06-30T16:23:32.710598Z",
     "start_time": "2024-06-30T16:23:32.703279Z"
    }
   },
   "id": "195cf28e572ea40",
   "execution_count": 5
  },
  {
   "cell_type": "code",
   "outputs": [
    {
     "name": "stdout",
     "output_type": "stream",
     "text": [
      "datetime\n",
      "['2021-07-13 12:56:09.000' '2021-07-30 10:42:00.000'\n",
      " '2021-10-11 12:55:23.000' ... '2022-06-09 20:59:41.000'\n",
      " '2022-06-09 21:07:59.000' '2022-06-09 21:49:45.000']\n",
      "\n",
      "\n",
      "shop\n",
      "['Аптека 2' 'Аптека 11' 'Аптека 1' 'Аптека 10' 'Аптека 8' 'Аптека 7'\n",
      " 'Аптека 4' 'Аптека 6']\n",
      "\n",
      "\n",
      "card\n",
      "['2000200195023' '2000200193494' '2000200199106' ...\n",
      " '99e0fb38-7dc2-49a2-8d5b-b9c1a6584d57' '2000200254881'\n",
      " '6daa372b-b02e-4226-a667-85758af03aac']\n",
      "\n",
      "\n",
      "bonus_earned\n",
      "[ 51  57  92   1 101   8  17  33  26   6  12  23  41 247  60  55  11   7\n",
      "  14  44  30  54   5  89  53   3  24  29  16   2 115   9  28  18  45  52\n",
      "  39  15  38  35  68   0  88  27  10 176  37  21   4  25  50  13  22  79\n",
      "  40  78  20  19 152 126  59  80  65  32  67  72 105  75  74  36  91  46\n",
      "  48  42  73 154  69  71  47  58  84 190  70  94  34  61  43  66 113  87\n",
      " 108 242  98  77  31  64 104 102  95 184  62  56 111  93 106 135 107 110\n",
      "  83  97 132 117  76 112  63  99 209 155 141  85  49 138 140 120  82 180\n",
      " 103 133 166 130 134  81 109 122 186 114 146  90 143  86 131 100 129 255\n",
      " 173 807 121 169 145 225  96 164 127 136 185 158 163 191 181 243 282 137\n",
      " 269 124 162 199 128 125 160 144 210 151 194 214 116 123 149 182 175 119\n",
      " 159 174 177 222 289 161 142 284 147 261 207 171 300 220 245 272 118 192\n",
      " 266 288 183 218 212 363 157 178 335 150 187 253 206 290 257 258 308 139\n",
      " 267 165 213 224 196 275 148 531 202 198 285 259 264 221 201 329 265 239\n",
      " 216 233 179 230 281 168 311 205 382 252 172 226 203 401 153 413 409 156\n",
      " 231 696 167 223 217 211 296 287 318 200 254 215 204 323 170 234 324 321\n",
      " 208 195 228 189 260 236 380]\n",
      "\n",
      "\n",
      "bonus_spent\n",
      "[   0  253   31    7   34   79   37   83   10   17   28   93    3    8\n",
      "  223    6   70   69   26   73   16   40   38   15   47    4   12  217\n",
      "   23   85   39    5    9   96  184   36   72  100  143  119   65   13\n",
      "  125   21   27   76   20   32   97   45   67    1   54  221   30   68\n",
      "   24   43   75   55  123   48   63   14  109   77   46  162  120   58\n",
      "  335   60  115   51   89   42   33   86    2   19  177   80  105  124\n",
      "  117  133   87   18   49  111  382   25  152   44  126   56  320   11\n",
      "   52   22   35  260  159   84   99   66  108   57   82  321  154  190\n",
      "  342   74   50  139  129   64   59  201   29   81  233  106  214  360\n",
      "  103  130   71  338  182  141  178   53   92  144  174  242   90  140\n",
      "   95  218  150  636  104  262   61  270  107  478   62  197   41   94\n",
      "  287   98  101  121  230  112  113  110  279  189  235  302  203   78\n",
      "  351  195  137  132  102  170  500   91  365  164  202   88  116  127\n",
      "  194  146  298  163  191  200  134  293  385  208  180  173  148  400\n",
      "  274  268  309  145  185  315  135  160  131  210  477  306  294  247\n",
      "  161  167  199  334  240  300  226  213  183  155  288  378  158  149\n",
      "  136  318  257  114  276  142  205  236  188  256  138  271  151  204\n",
      "  122  153  248  128  176  807  169  249  118  147  359  166  181  157\n",
      "  172  319  238  374  350  206  502  196  483  234  266  220  168 1192\n",
      "  192  255  212  345  165  397  219  446  308  277  267  179  251  224\n",
      "  261  316  209  211  595  373  243  252  491  272  377  193  381  290\n",
      "  245  250  375  362  353  503  237  369  303  156  186  395  241  690\n",
      "  239  299  297  332  347  171  265  215  258  327  259  317  273  743\n",
      "  278  444  366  313  282  352  824  275  285  458  418  246  538  524\n",
      "  943  423  254  269  222  231  425  401  283  198  175  304  443  403\n",
      "  363  487  367  229  280  355  225  296  410  228  284  412  216  325\n",
      "  314  187  587  454  592  499  436  566  498  451  289  558  207  286\n",
      "  520  244  445  281  541  339  324  429]\n",
      "\n",
      "\n",
      "summ\n",
      "[3400  747 3077 ... 2055 2133 2820]\n",
      "\n",
      "\n",
      "summ_with_disc\n",
      "[3400  747 3077 ... 4395 2133 2820]\n",
      "\n",
      "\n",
      "doc_id\n",
      "['15#2002741#65938#2_29' '15#2002972#65955#2_5' '15#2004060#66028#2_29'\n",
      " ... '15#18001790#66269#18_126' '15#18001790#66269#18_129'\n",
      " '15#18001790#66269#18_137']\n"
     ]
    }
   ],
   "source": [
    "for col in df.columns:\n",
    "    print(col)\n",
    "    print(df[col].unique())\n",
    "    print('\\n')"
   ],
   "metadata": {
    "collapsed": false,
    "ExecuteTime": {
     "end_time": "2024-06-30T16:27:09.470993Z",
     "start_time": "2024-06-30T16:27:09.456473Z"
    }
   },
   "id": "40100531f8d98500",
   "execution_count": 12
  },
  {
   "cell_type": "code",
   "outputs": [
    {
     "data": {
      "text/plain": "       bonus_earned   bonus_spent          summ  summ_with_disc\ncount  38486.000000  38486.000000  38486.000000    38486.000000\nmean      25.719015     18.242712    836.735644      834.007379\nstd       31.899993     44.945897    951.381219      948.206653\nmin        0.000000      0.000000      6.000000        6.000000\n25%        5.000000      0.000000    275.000000      274.000000\n50%       15.000000      0.000000    570.000000      569.000000\n75%       33.000000     14.000000   1040.000000     1037.000000\nmax      807.000000   1192.000000  23229.000000    23229.000000",
      "text/html": "<div>\n<style scoped>\n    .dataframe tbody tr th:only-of-type {\n        vertical-align: middle;\n    }\n\n    .dataframe tbody tr th {\n        vertical-align: top;\n    }\n\n    .dataframe thead th {\n        text-align: right;\n    }\n</style>\n<table border=\"1\" class=\"dataframe\">\n  <thead>\n    <tr style=\"text-align: right;\">\n      <th></th>\n      <th>bonus_earned</th>\n      <th>bonus_spent</th>\n      <th>summ</th>\n      <th>summ_with_disc</th>\n    </tr>\n  </thead>\n  <tbody>\n    <tr>\n      <th>count</th>\n      <td>38486.000000</td>\n      <td>38486.000000</td>\n      <td>38486.000000</td>\n      <td>38486.000000</td>\n    </tr>\n    <tr>\n      <th>mean</th>\n      <td>25.719015</td>\n      <td>18.242712</td>\n      <td>836.735644</td>\n      <td>834.007379</td>\n    </tr>\n    <tr>\n      <th>std</th>\n      <td>31.899993</td>\n      <td>44.945897</td>\n      <td>951.381219</td>\n      <td>948.206653</td>\n    </tr>\n    <tr>\n      <th>min</th>\n      <td>0.000000</td>\n      <td>0.000000</td>\n      <td>6.000000</td>\n      <td>6.000000</td>\n    </tr>\n    <tr>\n      <th>25%</th>\n      <td>5.000000</td>\n      <td>0.000000</td>\n      <td>275.000000</td>\n      <td>274.000000</td>\n    </tr>\n    <tr>\n      <th>50%</th>\n      <td>15.000000</td>\n      <td>0.000000</td>\n      <td>570.000000</td>\n      <td>569.000000</td>\n    </tr>\n    <tr>\n      <th>75%</th>\n      <td>33.000000</td>\n      <td>14.000000</td>\n      <td>1040.000000</td>\n      <td>1037.000000</td>\n    </tr>\n    <tr>\n      <th>max</th>\n      <td>807.000000</td>\n      <td>1192.000000</td>\n      <td>23229.000000</td>\n      <td>23229.000000</td>\n    </tr>\n  </tbody>\n</table>\n</div>"
     },
     "execution_count": 16,
     "metadata": {},
     "output_type": "execute_result"
    }
   ],
   "source": [
    "df.describe()"
   ],
   "metadata": {
    "collapsed": false,
    "ExecuteTime": {
     "end_time": "2024-06-30T16:28:12.505470Z",
     "start_time": "2024-06-30T16:28:12.495266Z"
    }
   },
   "id": "87d2df0c9fd7768c",
   "execution_count": 16
  },
  {
   "cell_type": "code",
   "outputs": [
    {
     "data": {
      "text/plain": "                 datetime       shop           card  bonus_earned  \\\n0     2021-07-13 12:56:09   Аптека 2  2000200195023            51   \n1     2021-07-30 10:42:00   Аптека 2  2000200193494            57   \n2     2021-10-11 12:55:23   Аптека 2  2000200199106            92   \n3     2021-10-14 14:48:56   Аптека 2  2000200168768             1   \n4     2021-10-20 11:09:39   Аптека 2  2000200226314           101   \n...                   ...        ...            ...           ...   \n38481 2022-06-09 20:45:32  Аптека 11  2000200244974            32   \n38482 2022-06-09 20:55:32  Аптека 11  2000200239246            38   \n38483 2022-06-09 20:59:41  Аптека 11  2000200238867            57   \n38484 2022-06-09 21:07:59  Аптека 11  2000200165811             2   \n38485 2022-06-09 21:49:45  Аптека 11  2000200241331             2   \n\n       bonus_spent  summ  summ_with_disc                    doc_id  \n0                0  3400            3400     15#2002741#65938#2_29  \n1                0   747             747      15#2002972#65955#2_5  \n2              253  3077            3077     15#2004060#66028#2_29  \n3                0    54              54     15#2004107#66031#2_57  \n4                0  1733            1733     15#2004192#66037#2_16  \n...            ...   ...             ...                       ...  \n38481            0  1341            1341  15#18001790#66269#18_120  \n38482            0  1445            1445  15#18001790#66269#18_123  \n38483            0  1912            1912  15#18001790#66269#18_126  \n38484            0   278             278  15#18001790#66269#18_129  \n38485            0   290             290  15#18001790#66269#18_137  \n\n[21075 rows x 8 columns]",
      "text/html": "<div>\n<style scoped>\n    .dataframe tbody tr th:only-of-type {\n        vertical-align: middle;\n    }\n\n    .dataframe tbody tr th {\n        vertical-align: top;\n    }\n\n    .dataframe thead th {\n        text-align: right;\n    }\n</style>\n<table border=\"1\" class=\"dataframe\">\n  <thead>\n    <tr style=\"text-align: right;\">\n      <th></th>\n      <th>datetime</th>\n      <th>shop</th>\n      <th>card</th>\n      <th>bonus_earned</th>\n      <th>bonus_spent</th>\n      <th>summ</th>\n      <th>summ_with_disc</th>\n      <th>doc_id</th>\n    </tr>\n  </thead>\n  <tbody>\n    <tr>\n      <th>0</th>\n      <td>2021-07-13 12:56:09</td>\n      <td>Аптека 2</td>\n      <td>2000200195023</td>\n      <td>51</td>\n      <td>0</td>\n      <td>3400</td>\n      <td>3400</td>\n      <td>15#2002741#65938#2_29</td>\n    </tr>\n    <tr>\n      <th>1</th>\n      <td>2021-07-30 10:42:00</td>\n      <td>Аптека 2</td>\n      <td>2000200193494</td>\n      <td>57</td>\n      <td>0</td>\n      <td>747</td>\n      <td>747</td>\n      <td>15#2002972#65955#2_5</td>\n    </tr>\n    <tr>\n      <th>2</th>\n      <td>2021-10-11 12:55:23</td>\n      <td>Аптека 2</td>\n      <td>2000200199106</td>\n      <td>92</td>\n      <td>253</td>\n      <td>3077</td>\n      <td>3077</td>\n      <td>15#2004060#66028#2_29</td>\n    </tr>\n    <tr>\n      <th>3</th>\n      <td>2021-10-14 14:48:56</td>\n      <td>Аптека 2</td>\n      <td>2000200168768</td>\n      <td>1</td>\n      <td>0</td>\n      <td>54</td>\n      <td>54</td>\n      <td>15#2004107#66031#2_57</td>\n    </tr>\n    <tr>\n      <th>4</th>\n      <td>2021-10-20 11:09:39</td>\n      <td>Аптека 2</td>\n      <td>2000200226314</td>\n      <td>101</td>\n      <td>0</td>\n      <td>1733</td>\n      <td>1733</td>\n      <td>15#2004192#66037#2_16</td>\n    </tr>\n    <tr>\n      <th>...</th>\n      <td>...</td>\n      <td>...</td>\n      <td>...</td>\n      <td>...</td>\n      <td>...</td>\n      <td>...</td>\n      <td>...</td>\n      <td>...</td>\n    </tr>\n    <tr>\n      <th>38481</th>\n      <td>2022-06-09 20:45:32</td>\n      <td>Аптека 11</td>\n      <td>2000200244974</td>\n      <td>32</td>\n      <td>0</td>\n      <td>1341</td>\n      <td>1341</td>\n      <td>15#18001790#66269#18_120</td>\n    </tr>\n    <tr>\n      <th>38482</th>\n      <td>2022-06-09 20:55:32</td>\n      <td>Аптека 11</td>\n      <td>2000200239246</td>\n      <td>38</td>\n      <td>0</td>\n      <td>1445</td>\n      <td>1445</td>\n      <td>15#18001790#66269#18_123</td>\n    </tr>\n    <tr>\n      <th>38483</th>\n      <td>2022-06-09 20:59:41</td>\n      <td>Аптека 11</td>\n      <td>2000200238867</td>\n      <td>57</td>\n      <td>0</td>\n      <td>1912</td>\n      <td>1912</td>\n      <td>15#18001790#66269#18_126</td>\n    </tr>\n    <tr>\n      <th>38484</th>\n      <td>2022-06-09 21:07:59</td>\n      <td>Аптека 11</td>\n      <td>2000200165811</td>\n      <td>2</td>\n      <td>0</td>\n      <td>278</td>\n      <td>278</td>\n      <td>15#18001790#66269#18_129</td>\n    </tr>\n    <tr>\n      <th>38485</th>\n      <td>2022-06-09 21:49:45</td>\n      <td>Аптека 11</td>\n      <td>2000200241331</td>\n      <td>2</td>\n      <td>0</td>\n      <td>290</td>\n      <td>290</td>\n      <td>15#18001790#66269#18_137</td>\n    </tr>\n  </tbody>\n</table>\n<p>21075 rows × 8 columns</p>\n</div>"
     },
     "execution_count": 23,
     "metadata": {},
     "output_type": "execute_result"
    }
   ],
   "source": [
    "df = df[df['card'].str.startswith('2000')]\n",
    "df"
   ],
   "metadata": {
    "collapsed": false,
    "ExecuteTime": {
     "end_time": "2024-06-30T16:32:15.224670Z",
     "start_time": "2024-06-30T16:32:15.211653Z"
    }
   },
   "id": "d073d7d07a0b5047",
   "execution_count": 23
  },
  {
   "cell_type": "code",
   "outputs": [
    {
     "data": {
      "text/plain": "                 datetime      shop           card  bonus_earned  bonus_spent  \\\n641   2021-07-19 09:37:20  Аптека 2  2000200150015             0            1   \n16455 2021-12-07 20:25:21  Аптека 2  2000200150022            30            0   \n8751  2021-10-05 16:31:25  Аптека 2  2000200150053            15            0   \n28718 2022-03-17 20:50:23  Аптека 7  2000200150053             1            0   \n834   2021-07-21 11:10:25  Аптека 2  2000200150091            22            0   \n...                   ...       ...            ...           ...          ...   \n38150 2022-06-07 17:08:45  Аптека 2  2000200259015            69            0   \n38199 2022-06-07 19:19:12  Аптека 2  2000200259381            53            0   \n38147 2022-06-07 19:37:59  Аптека 2  2000200259398            65            0   \n38226 2022-06-08 09:46:52  Аптека 2  2000200259404            73            0   \n37379 2022-06-01 12:34:41  Аптека 2  2000200259435           122            0   \n\n       summ  summ_with_disc                    doc_id  \n641      21              21      15#2002822#65944#2_6  \n16455  1351            1351    15#2004825#66085#2_140  \n8751    649             649     15#2003981#66022#2_65  \n28718    64              64  15#11002624#66185#11_177  \n834     746             746      15#2002857#65946#2_4  \n...     ...             ...                       ...  \n38150   664             664     15#2003527#66267#2_73  \n38199   245             245    15#2003527#66267#2_109  \n38147   395             395    15#2003527#66267#2_113  \n38226   784             784      15#2003546#66268#2_7  \n37379  2431            2431     15#2003426#66261#2_35  \n\n[21075 rows x 8 columns]",
      "text/html": "<div>\n<style scoped>\n    .dataframe tbody tr th:only-of-type {\n        vertical-align: middle;\n    }\n\n    .dataframe tbody tr th {\n        vertical-align: top;\n    }\n\n    .dataframe thead th {\n        text-align: right;\n    }\n</style>\n<table border=\"1\" class=\"dataframe\">\n  <thead>\n    <tr style=\"text-align: right;\">\n      <th></th>\n      <th>datetime</th>\n      <th>shop</th>\n      <th>card</th>\n      <th>bonus_earned</th>\n      <th>bonus_spent</th>\n      <th>summ</th>\n      <th>summ_with_disc</th>\n      <th>doc_id</th>\n    </tr>\n  </thead>\n  <tbody>\n    <tr>\n      <th>641</th>\n      <td>2021-07-19 09:37:20</td>\n      <td>Аптека 2</td>\n      <td>2000200150015</td>\n      <td>0</td>\n      <td>1</td>\n      <td>21</td>\n      <td>21</td>\n      <td>15#2002822#65944#2_6</td>\n    </tr>\n    <tr>\n      <th>16455</th>\n      <td>2021-12-07 20:25:21</td>\n      <td>Аптека 2</td>\n      <td>2000200150022</td>\n      <td>30</td>\n      <td>0</td>\n      <td>1351</td>\n      <td>1351</td>\n      <td>15#2004825#66085#2_140</td>\n    </tr>\n    <tr>\n      <th>8751</th>\n      <td>2021-10-05 16:31:25</td>\n      <td>Аптека 2</td>\n      <td>2000200150053</td>\n      <td>15</td>\n      <td>0</td>\n      <td>649</td>\n      <td>649</td>\n      <td>15#2003981#66022#2_65</td>\n    </tr>\n    <tr>\n      <th>28718</th>\n      <td>2022-03-17 20:50:23</td>\n      <td>Аптека 7</td>\n      <td>2000200150053</td>\n      <td>1</td>\n      <td>0</td>\n      <td>64</td>\n      <td>64</td>\n      <td>15#11002624#66185#11_177</td>\n    </tr>\n    <tr>\n      <th>834</th>\n      <td>2021-07-21 11:10:25</td>\n      <td>Аптека 2</td>\n      <td>2000200150091</td>\n      <td>22</td>\n      <td>0</td>\n      <td>746</td>\n      <td>746</td>\n      <td>15#2002857#65946#2_4</td>\n    </tr>\n    <tr>\n      <th>...</th>\n      <td>...</td>\n      <td>...</td>\n      <td>...</td>\n      <td>...</td>\n      <td>...</td>\n      <td>...</td>\n      <td>...</td>\n      <td>...</td>\n    </tr>\n    <tr>\n      <th>38150</th>\n      <td>2022-06-07 17:08:45</td>\n      <td>Аптека 2</td>\n      <td>2000200259015</td>\n      <td>69</td>\n      <td>0</td>\n      <td>664</td>\n      <td>664</td>\n      <td>15#2003527#66267#2_73</td>\n    </tr>\n    <tr>\n      <th>38199</th>\n      <td>2022-06-07 19:19:12</td>\n      <td>Аптека 2</td>\n      <td>2000200259381</td>\n      <td>53</td>\n      <td>0</td>\n      <td>245</td>\n      <td>245</td>\n      <td>15#2003527#66267#2_109</td>\n    </tr>\n    <tr>\n      <th>38147</th>\n      <td>2022-06-07 19:37:59</td>\n      <td>Аптека 2</td>\n      <td>2000200259398</td>\n      <td>65</td>\n      <td>0</td>\n      <td>395</td>\n      <td>395</td>\n      <td>15#2003527#66267#2_113</td>\n    </tr>\n    <tr>\n      <th>38226</th>\n      <td>2022-06-08 09:46:52</td>\n      <td>Аптека 2</td>\n      <td>2000200259404</td>\n      <td>73</td>\n      <td>0</td>\n      <td>784</td>\n      <td>784</td>\n      <td>15#2003546#66268#2_7</td>\n    </tr>\n    <tr>\n      <th>37379</th>\n      <td>2022-06-01 12:34:41</td>\n      <td>Аптека 2</td>\n      <td>2000200259435</td>\n      <td>122</td>\n      <td>0</td>\n      <td>2431</td>\n      <td>2431</td>\n      <td>15#2003426#66261#2_35</td>\n    </tr>\n  </tbody>\n</table>\n<p>21075 rows × 8 columns</p>\n</div>"
     },
     "execution_count": 26,
     "metadata": {},
     "output_type": "execute_result"
    }
   ],
   "source": [
    "df = df.sort_values(by=['card','datetime'])\n",
    "df"
   ],
   "metadata": {
    "collapsed": false,
    "ExecuteTime": {
     "end_time": "2024-06-30T16:32:38.612586Z",
     "start_time": "2024-06-30T16:32:38.597917Z"
    }
   },
   "id": "b76365502c070782",
   "execution_count": 26
  },
  {
   "cell_type": "code",
   "outputs": [
    {
     "data": {
      "text/plain": "Timestamp('2022-06-09 21:49:45')"
     },
     "execution_count": 27,
     "metadata": {},
     "output_type": "execute_result"
    }
   ],
   "source": [
    "max(df['datetime'])"
   ],
   "metadata": {
    "collapsed": false,
    "ExecuteTime": {
     "end_time": "2024-06-30T16:34:36.649403Z",
     "start_time": "2024-06-30T16:34:36.636386Z"
    }
   },
   "id": "b0a30097050ef46",
   "execution_count": 27
  },
  {
   "cell_type": "markdown",
   "source": [
    "Проводим rfm в дату 2022-06-09 т.к. даты давние"
   ],
   "metadata": {
    "collapsed": false
   },
   "id": "73298828d5579d7f"
  },
  {
   "cell_type": "code",
   "outputs": [
    {
     "data": {
      "text/plain": "               card  purchase_sum  purchase_amount       last_purchase\n0     2000200150015            21                1 2021-07-19 09:37:20\n1     2000200150022          1351                1 2021-12-07 20:25:21\n2     2000200150053           713                2 2022-03-17 20:50:23\n3     2000200150091          3549                5 2022-06-05 11:49:47\n4     2000200150107          1735                3 2022-06-02 17:54:19\n...             ...           ...              ...                 ...\n5921  2000200259015           664                1 2022-06-07 17:08:45\n5922  2000200259381           245                1 2022-06-07 19:19:12\n5923  2000200259398           395                1 2022-06-07 19:37:59\n5924  2000200259404           784                1 2022-06-08 09:46:52\n5925  2000200259435          2431                1 2022-06-01 12:34:41\n\n[5926 rows x 4 columns]",
      "text/html": "<div>\n<style scoped>\n    .dataframe tbody tr th:only-of-type {\n        vertical-align: middle;\n    }\n\n    .dataframe tbody tr th {\n        vertical-align: top;\n    }\n\n    .dataframe thead th {\n        text-align: right;\n    }\n</style>\n<table border=\"1\" class=\"dataframe\">\n  <thead>\n    <tr style=\"text-align: right;\">\n      <th></th>\n      <th>card</th>\n      <th>purchase_sum</th>\n      <th>purchase_amount</th>\n      <th>last_purchase</th>\n    </tr>\n  </thead>\n  <tbody>\n    <tr>\n      <th>0</th>\n      <td>2000200150015</td>\n      <td>21</td>\n      <td>1</td>\n      <td>2021-07-19 09:37:20</td>\n    </tr>\n    <tr>\n      <th>1</th>\n      <td>2000200150022</td>\n      <td>1351</td>\n      <td>1</td>\n      <td>2021-12-07 20:25:21</td>\n    </tr>\n    <tr>\n      <th>2</th>\n      <td>2000200150053</td>\n      <td>713</td>\n      <td>2</td>\n      <td>2022-03-17 20:50:23</td>\n    </tr>\n    <tr>\n      <th>3</th>\n      <td>2000200150091</td>\n      <td>3549</td>\n      <td>5</td>\n      <td>2022-06-05 11:49:47</td>\n    </tr>\n    <tr>\n      <th>4</th>\n      <td>2000200150107</td>\n      <td>1735</td>\n      <td>3</td>\n      <td>2022-06-02 17:54:19</td>\n    </tr>\n    <tr>\n      <th>...</th>\n      <td>...</td>\n      <td>...</td>\n      <td>...</td>\n      <td>...</td>\n    </tr>\n    <tr>\n      <th>5921</th>\n      <td>2000200259015</td>\n      <td>664</td>\n      <td>1</td>\n      <td>2022-06-07 17:08:45</td>\n    </tr>\n    <tr>\n      <th>5922</th>\n      <td>2000200259381</td>\n      <td>245</td>\n      <td>1</td>\n      <td>2022-06-07 19:19:12</td>\n    </tr>\n    <tr>\n      <th>5923</th>\n      <td>2000200259398</td>\n      <td>395</td>\n      <td>1</td>\n      <td>2022-06-07 19:37:59</td>\n    </tr>\n    <tr>\n      <th>5924</th>\n      <td>2000200259404</td>\n      <td>784</td>\n      <td>1</td>\n      <td>2022-06-08 09:46:52</td>\n    </tr>\n    <tr>\n      <th>5925</th>\n      <td>2000200259435</td>\n      <td>2431</td>\n      <td>1</td>\n      <td>2022-06-01 12:34:41</td>\n    </tr>\n  </tbody>\n</table>\n<p>5926 rows × 4 columns</p>\n</div>"
     },
     "execution_count": 30,
     "metadata": {},
     "output_type": "execute_result"
    }
   ],
   "source": [
    "df_pre = df.groupby('card').agg(purchase_sum = ('summ_with_disc', 'sum'),\n",
    "                       purchase_amount = ('summ_with_disc', 'count'),\n",
    "                       last_purchase = ('datetime','last')).reset_index()\n",
    "df_pre"
   ],
   "metadata": {
    "collapsed": false,
    "ExecuteTime": {
     "end_time": "2024-06-30T16:38:16.824312Z",
     "start_time": "2024-06-30T16:38:16.812317Z"
    }
   },
   "id": "954f144afb0f42e",
   "execution_count": 30
  },
  {
   "cell_type": "code",
   "outputs": [],
   "source": [
    "df_pre['days_since'] = (max(df['datetime'])-(df_pre['last_purchase'])).dt.days"
   ],
   "metadata": {
    "collapsed": false,
    "ExecuteTime": {
     "end_time": "2024-06-30T16:41:12.305613Z",
     "start_time": "2024-06-30T16:41:12.294210Z"
    }
   },
   "id": "44867946b1c15926",
   "execution_count": 38
  },
  {
   "cell_type": "code",
   "outputs": [
    {
     "data": {
      "text/plain": "               card  purchase_sum  purchase_amount       last_purchase  \\\n0     2000200150015            21                1 2021-07-19 09:37:20   \n1     2000200150022          1351                1 2021-12-07 20:25:21   \n2     2000200150053           713                2 2022-03-17 20:50:23   \n3     2000200150091          3549                5 2022-06-05 11:49:47   \n4     2000200150107          1735                3 2022-06-02 17:54:19   \n...             ...           ...              ...                 ...   \n5921  2000200259015           664                1 2022-06-07 17:08:45   \n5922  2000200259381           245                1 2022-06-07 19:19:12   \n5923  2000200259398           395                1 2022-06-07 19:37:59   \n5924  2000200259404           784                1 2022-06-08 09:46:52   \n5925  2000200259435          2431                1 2022-06-01 12:34:41   \n\n      days_since  \n0            325  \n1            184  \n2             84  \n3              4  \n4              7  \n...          ...  \n5921           2  \n5922           2  \n5923           2  \n5924           1  \n5925           8  \n\n[5926 rows x 5 columns]",
      "text/html": "<div>\n<style scoped>\n    .dataframe tbody tr th:only-of-type {\n        vertical-align: middle;\n    }\n\n    .dataframe tbody tr th {\n        vertical-align: top;\n    }\n\n    .dataframe thead th {\n        text-align: right;\n    }\n</style>\n<table border=\"1\" class=\"dataframe\">\n  <thead>\n    <tr style=\"text-align: right;\">\n      <th></th>\n      <th>card</th>\n      <th>purchase_sum</th>\n      <th>purchase_amount</th>\n      <th>last_purchase</th>\n      <th>days_since</th>\n    </tr>\n  </thead>\n  <tbody>\n    <tr>\n      <th>0</th>\n      <td>2000200150015</td>\n      <td>21</td>\n      <td>1</td>\n      <td>2021-07-19 09:37:20</td>\n      <td>325</td>\n    </tr>\n    <tr>\n      <th>1</th>\n      <td>2000200150022</td>\n      <td>1351</td>\n      <td>1</td>\n      <td>2021-12-07 20:25:21</td>\n      <td>184</td>\n    </tr>\n    <tr>\n      <th>2</th>\n      <td>2000200150053</td>\n      <td>713</td>\n      <td>2</td>\n      <td>2022-03-17 20:50:23</td>\n      <td>84</td>\n    </tr>\n    <tr>\n      <th>3</th>\n      <td>2000200150091</td>\n      <td>3549</td>\n      <td>5</td>\n      <td>2022-06-05 11:49:47</td>\n      <td>4</td>\n    </tr>\n    <tr>\n      <th>4</th>\n      <td>2000200150107</td>\n      <td>1735</td>\n      <td>3</td>\n      <td>2022-06-02 17:54:19</td>\n      <td>7</td>\n    </tr>\n    <tr>\n      <th>...</th>\n      <td>...</td>\n      <td>...</td>\n      <td>...</td>\n      <td>...</td>\n      <td>...</td>\n    </tr>\n    <tr>\n      <th>5921</th>\n      <td>2000200259015</td>\n      <td>664</td>\n      <td>1</td>\n      <td>2022-06-07 17:08:45</td>\n      <td>2</td>\n    </tr>\n    <tr>\n      <th>5922</th>\n      <td>2000200259381</td>\n      <td>245</td>\n      <td>1</td>\n      <td>2022-06-07 19:19:12</td>\n      <td>2</td>\n    </tr>\n    <tr>\n      <th>5923</th>\n      <td>2000200259398</td>\n      <td>395</td>\n      <td>1</td>\n      <td>2022-06-07 19:37:59</td>\n      <td>2</td>\n    </tr>\n    <tr>\n      <th>5924</th>\n      <td>2000200259404</td>\n      <td>784</td>\n      <td>1</td>\n      <td>2022-06-08 09:46:52</td>\n      <td>1</td>\n    </tr>\n    <tr>\n      <th>5925</th>\n      <td>2000200259435</td>\n      <td>2431</td>\n      <td>1</td>\n      <td>2022-06-01 12:34:41</td>\n      <td>8</td>\n    </tr>\n  </tbody>\n</table>\n<p>5926 rows × 5 columns</p>\n</div>"
     },
     "execution_count": 39,
     "metadata": {},
     "output_type": "execute_result"
    }
   ],
   "source": [
    "df_pre"
   ],
   "metadata": {
    "collapsed": false,
    "ExecuteTime": {
     "end_time": "2024-06-30T16:41:13.258886Z",
     "start_time": "2024-06-30T16:41:13.253152Z"
    }
   },
   "id": "3ab148d89fbe74f3",
   "execution_count": 39
  },
  {
   "cell_type": "code",
   "outputs": [
    {
     "data": {
      "text/plain": "<Axes: >"
     },
     "execution_count": 85,
     "metadata": {},
     "output_type": "execute_result"
    },
    {
     "data": {
      "text/plain": "<Figure size 640x480 with 1 Axes>",
      "image/png": "[encoded data removed]"
     },
     "metadata": {},
     "output_type": "display_data"
    }
   ],
   "source": [
    "import seaborn as sns\n",
    "sns.violinplot(df_pre['purchase_sum'])"
   ],
   "metadata": {
    "collapsed": false,
    "ExecuteTime": {
     "end_time": "2024-06-30T16:58:27.852433Z",
     "start_time": "2024-06-30T16:58:27.796403Z"
    }
   },
   "id": "f83239923d0a6639",
   "execution_count": 85
  },
  {
   "cell_type": "code",
   "outputs": [
    {
     "data": {
      "text/plain": "array([0.1, 0.2, 0.3, 0.4, 0.5, 0.6, 0.7, 0.8, 0.9, 1. ])"
     },
     "execution_count": 86,
     "metadata": {},
     "output_type": "execute_result"
    }
   ],
   "source": [
    "import numpy as np\n",
    "quantiles = np.arange(0.1,1.1,0.1)\n",
    "quantiles"
   ],
   "metadata": {
    "collapsed": false,
    "ExecuteTime": {
     "end_time": "2024-06-30T16:58:28.448446Z",
     "start_time": "2024-06-30T16:58:28.444435Z"
    }
   },
   "id": "49ff78dc0ba4cda4",
   "execution_count": 86
  },
  {
   "cell_type": "code",
   "outputs": [
    {
     "data": {
      "text/plain": "0.1       405.5\n0.2       620.0\n0.3       844.0\n0.4      1103.0\n0.5      1470.5\n0.6      2008.0\n0.7      2731.0\n0.8      4078.0\n0.9      6906.5\n1.0    162687.0\nName: purchase_sum, dtype: float64"
     },
     "execution_count": 87,
     "metadata": {},
     "output_type": "execute_result"
    }
   ],
   "source": [
    "df_pre['purchase_sum'].quantile(quantiles)"
   ],
   "metadata": {
    "collapsed": false,
    "ExecuteTime": {
     "end_time": "2024-06-30T16:58:29.015507Z",
     "start_time": "2024-06-30T16:58:29.010508Z"
    }
   },
   "id": "a499e4cc7c57b389",
   "execution_count": 87
  },
  {
   "cell_type": "code",
   "outputs": [
    {
     "data": {
      "text/plain": "0       405.5\n1       620.0\n2       844.0\n3      1103.0\n4      1470.5\n5      2008.0\n6      2731.0\n7      4078.0\n8      6906.5\n9    162687.0\nName: purchase_sum, dtype: float64"
     },
     "execution_count": 88,
     "metadata": {},
     "output_type": "execute_result"
    }
   ],
   "source": [
    "df_pre['purchase_sum'].quantile(quantiles).reset_index(drop=True)"
   ],
   "metadata": {
    "collapsed": false,
    "ExecuteTime": {
     "end_time": "2024-06-30T16:58:29.539809Z",
     "start_time": "2024-06-30T16:58:29.534292Z"
    }
   },
   "id": "9a28f15fb015feeb",
   "execution_count": 88
  },
  {
   "cell_type": "code",
   "outputs": [
    {
     "data": {
      "text/plain": "0.1       405.5\n0.2       620.0\n0.3       844.0\n0.4      1103.0\n0.5      1470.5\n0.6      2008.0\n0.7      2731.0\n0.8      4078.0\n0.9      6906.5\n1.0    162687.0\nName: purchase_sum, dtype: float64"
     },
     "execution_count": 89,
     "metadata": {},
     "output_type": "execute_result"
    }
   ],
   "source": [
    "df_pre['purchase_sum'].quantile(quantiles)"
   ],
   "metadata": {
    "collapsed": false,
    "ExecuteTime": {
     "end_time": "2024-06-30T16:58:30.143373Z",
     "start_time": "2024-06-30T16:58:30.138644Z"
    }
   },
   "id": "67e595d830330fe7",
   "execution_count": 89
  },
  {
   "cell_type": "code",
   "outputs": [
    {
     "ename": "KeyError",
     "evalue": "0",
     "output_type": "error",
     "traceback": [
      "\u001B[1;31m---------------------------------------------------------------------------\u001B[0m",
      "\u001B[1;31mKeyError\u001B[0m                                  Traceback (most recent call last)",
      "File \u001B[1;32m~\\AppData\\Roaming\\Python\\Python311\\site-packages\\pandas\\core\\indexes\\base.py:3802\u001B[0m, in \u001B[0;36mIndex.get_loc\u001B[1;34m(self, key, method, tolerance)\u001B[0m\n\u001B[0;32m   3801\u001B[0m \u001B[38;5;28;01mtry\u001B[39;00m:\n\u001B[1;32m-> 3802\u001B[0m     \u001B[38;5;28;01mreturn\u001B[39;00m \u001B[38;5;28mself\u001B[39m\u001B[38;5;241m.\u001B[39m_engine\u001B[38;5;241m.\u001B[39mget_loc(casted_key)\n\u001B[0;32m   3803\u001B[0m \u001B[38;5;28;01mexcept\u001B[39;00m \u001B[38;5;167;01mKeyError\u001B[39;00m \u001B[38;5;28;01mas\u001B[39;00m err:\n",
      "File \u001B[1;32m~\\AppData\\Roaming\\Python\\Python311\\site-packages\\pandas\\_libs\\index.pyx:138\u001B[0m, in \u001B[0;36mpandas._libs.index.IndexEngine.get_loc\u001B[1;34m()\u001B[0m\n",
      "File \u001B[1;32m~\\AppData\\Roaming\\Python\\Python311\\site-packages\\pandas\\_libs\\index.pyx:165\u001B[0m, in \u001B[0;36mpandas._libs.index.IndexEngine.get_loc\u001B[1;34m()\u001B[0m\n",
      "File \u001B[1;32mpandas\\_libs\\hashtable_class_helper.pxi:1577\u001B[0m, in \u001B[0;36mpandas._libs.hashtable.Float64HashTable.get_item\u001B[1;34m()\u001B[0m\n",
      "File \u001B[1;32mpandas\\_libs\\hashtable_class_helper.pxi:1587\u001B[0m, in \u001B[0;36mpandas._libs.hashtable.Float64HashTable.get_item\u001B[1;34m()\u001B[0m\n",
      "\u001B[1;31mKeyError\u001B[0m: 0.0",
      "\nThe above exception was the direct cause of the following exception:\n",
      "\u001B[1;31mKeyError\u001B[0m                                  Traceback (most recent call last)",
      "Cell \u001B[1;32mIn[90], line 1\u001B[0m\n\u001B[1;32m----> 1\u001B[0m sns\u001B[38;5;241m.\u001B[39mbarplot(df_pre[\u001B[38;5;124m'\u001B[39m\u001B[38;5;124mpurchase_sum\u001B[39m\u001B[38;5;124m'\u001B[39m]\u001B[38;5;241m.\u001B[39mquantile(quantiles))\n",
      "File \u001B[1;32mD:\\hran\\anacondaz\\Lib\\site-packages\\seaborn\\categorical.py:2755\u001B[0m, in \u001B[0;36mbarplot\u001B[1;34m(data, x, y, hue, order, hue_order, estimator, errorbar, n_boot, units, seed, orient, color, palette, saturation, width, errcolor, errwidth, capsize, dodge, ci, ax, **kwargs)\u001B[0m\n\u001B[0;32m   2752\u001B[0m \u001B[38;5;28;01mif\u001B[39;00m estimator \u001B[38;5;129;01mis\u001B[39;00m \u001B[38;5;28mlen\u001B[39m:\n\u001B[0;32m   2753\u001B[0m     estimator \u001B[38;5;241m=\u001B[39m \u001B[38;5;124m\"\u001B[39m\u001B[38;5;124msize\u001B[39m\u001B[38;5;124m\"\u001B[39m\n\u001B[1;32m-> 2755\u001B[0m plotter \u001B[38;5;241m=\u001B[39m _BarPlotter(x, y, hue, data, order, hue_order,\n\u001B[0;32m   2756\u001B[0m                       estimator, errorbar, n_boot, units, seed,\n\u001B[0;32m   2757\u001B[0m                       orient, color, palette, saturation,\n\u001B[0;32m   2758\u001B[0m                       width, errcolor, errwidth, capsize, dodge)\n\u001B[0;32m   2760\u001B[0m \u001B[38;5;28;01mif\u001B[39;00m ax \u001B[38;5;129;01mis\u001B[39;00m \u001B[38;5;28;01mNone\u001B[39;00m:\n\u001B[0;32m   2761\u001B[0m     ax \u001B[38;5;241m=\u001B[39m plt\u001B[38;5;241m.\u001B[39mgca()\n",
      "File \u001B[1;32mD:\\hran\\anacondaz\\Lib\\site-packages\\seaborn\\categorical.py:1530\u001B[0m, in \u001B[0;36m_BarPlotter.__init__\u001B[1;34m(self, x, y, hue, data, order, hue_order, estimator, errorbar, n_boot, units, seed, orient, color, palette, saturation, width, errcolor, errwidth, capsize, dodge)\u001B[0m\n\u001B[0;32m   1525\u001B[0m \u001B[38;5;28;01mdef\u001B[39;00m \u001B[38;5;21m__init__\u001B[39m(\u001B[38;5;28mself\u001B[39m, x, y, hue, data, order, hue_order,\n\u001B[0;32m   1526\u001B[0m              estimator, errorbar, n_boot, units, seed,\n\u001B[0;32m   1527\u001B[0m              orient, color, palette, saturation, width,\n\u001B[0;32m   1528\u001B[0m              errcolor, errwidth, capsize, dodge):\n\u001B[0;32m   1529\u001B[0m \u001B[38;5;250m    \u001B[39m\u001B[38;5;124;03m\"\"\"Initialize the plotter.\"\"\"\u001B[39;00m\n\u001B[1;32m-> 1530\u001B[0m     \u001B[38;5;28mself\u001B[39m\u001B[38;5;241m.\u001B[39mestablish_variables(x, y, hue, data, orient,\n\u001B[0;32m   1531\u001B[0m                              order, hue_order, units)\n\u001B[0;32m   1532\u001B[0m     \u001B[38;5;28mself\u001B[39m\u001B[38;5;241m.\u001B[39mestablish_colors(color, palette, saturation)\n\u001B[0;32m   1533\u001B[0m     \u001B[38;5;28mself\u001B[39m\u001B[38;5;241m.\u001B[39mestimate_statistic(estimator, errorbar, n_boot, seed)\n",
      "File \u001B[1;32mD:\\hran\\anacondaz\\Lib\\site-packages\\seaborn\\categorical.py:486\u001B[0m, in \u001B[0;36m_CategoricalPlotter.establish_variables\u001B[1;34m(self, x, y, hue, data, orient, order, hue_order, units)\u001B[0m\n\u001B[0;32m    484\u001B[0m \u001B[38;5;28;01mif\u001B[39;00m \u001B[38;5;28mhasattr\u001B[39m(data, \u001B[38;5;124m\"\u001B[39m\u001B[38;5;124mshape\u001B[39m\u001B[38;5;124m\"\u001B[39m):\n\u001B[0;32m    485\u001B[0m     \u001B[38;5;28;01mif\u001B[39;00m \u001B[38;5;28mlen\u001B[39m(data\u001B[38;5;241m.\u001B[39mshape) \u001B[38;5;241m==\u001B[39m \u001B[38;5;241m1\u001B[39m:\n\u001B[1;32m--> 486\u001B[0m         \u001B[38;5;28;01mif\u001B[39;00m np\u001B[38;5;241m.\u001B[39misscalar(data[\u001B[38;5;241m0\u001B[39m]):\n\u001B[0;32m    487\u001B[0m             plot_data \u001B[38;5;241m=\u001B[39m [data]\n\u001B[0;32m    488\u001B[0m         \u001B[38;5;28;01melse\u001B[39;00m:\n",
      "File \u001B[1;32m~\\AppData\\Roaming\\Python\\Python311\\site-packages\\pandas\\core\\series.py:981\u001B[0m, in \u001B[0;36mSeries.__getitem__\u001B[1;34m(self, key)\u001B[0m\n\u001B[0;32m    978\u001B[0m     \u001B[38;5;28;01mreturn\u001B[39;00m \u001B[38;5;28mself\u001B[39m\u001B[38;5;241m.\u001B[39m_values[key]\n\u001B[0;32m    980\u001B[0m \u001B[38;5;28;01melif\u001B[39;00m key_is_scalar:\n\u001B[1;32m--> 981\u001B[0m     \u001B[38;5;28;01mreturn\u001B[39;00m \u001B[38;5;28mself\u001B[39m\u001B[38;5;241m.\u001B[39m_get_value(key)\n\u001B[0;32m    983\u001B[0m \u001B[38;5;28;01mif\u001B[39;00m is_hashable(key):\n\u001B[0;32m    984\u001B[0m     \u001B[38;5;66;03m# Otherwise index.get_value will raise InvalidIndexError\u001B[39;00m\n\u001B[0;32m    985\u001B[0m     \u001B[38;5;28;01mtry\u001B[39;00m:\n\u001B[0;32m    986\u001B[0m         \u001B[38;5;66;03m# For labels that don't resolve as scalars like tuples and frozensets\u001B[39;00m\n",
      "File \u001B[1;32m~\\AppData\\Roaming\\Python\\Python311\\site-packages\\pandas\\core\\series.py:1089\u001B[0m, in \u001B[0;36mSeries._get_value\u001B[1;34m(self, label, takeable)\u001B[0m\n\u001B[0;32m   1086\u001B[0m     \u001B[38;5;28;01mreturn\u001B[39;00m \u001B[38;5;28mself\u001B[39m\u001B[38;5;241m.\u001B[39m_values[label]\n\u001B[0;32m   1088\u001B[0m \u001B[38;5;66;03m# Similar to Index.get_value, but we do not fall back to positional\u001B[39;00m\n\u001B[1;32m-> 1089\u001B[0m loc \u001B[38;5;241m=\u001B[39m \u001B[38;5;28mself\u001B[39m\u001B[38;5;241m.\u001B[39mindex\u001B[38;5;241m.\u001B[39mget_loc(label)\n\u001B[0;32m   1090\u001B[0m \u001B[38;5;28;01mreturn\u001B[39;00m \u001B[38;5;28mself\u001B[39m\u001B[38;5;241m.\u001B[39mindex\u001B[38;5;241m.\u001B[39m_get_values_for_loc(\u001B[38;5;28mself\u001B[39m, loc, label)\n",
      "File \u001B[1;32m~\\AppData\\Roaming\\Python\\Python311\\site-packages\\pandas\\core\\indexes\\base.py:3804\u001B[0m, in \u001B[0;36mIndex.get_loc\u001B[1;34m(self, key, method, tolerance)\u001B[0m\n\u001B[0;32m   3802\u001B[0m     \u001B[38;5;28;01mreturn\u001B[39;00m \u001B[38;5;28mself\u001B[39m\u001B[38;5;241m.\u001B[39m_engine\u001B[38;5;241m.\u001B[39mget_loc(casted_key)\n\u001B[0;32m   3803\u001B[0m \u001B[38;5;28;01mexcept\u001B[39;00m \u001B[38;5;167;01mKeyError\u001B[39;00m \u001B[38;5;28;01mas\u001B[39;00m err:\n\u001B[1;32m-> 3804\u001B[0m     \u001B[38;5;28;01mraise\u001B[39;00m \u001B[38;5;167;01mKeyError\u001B[39;00m(key) \u001B[38;5;28;01mfrom\u001B[39;00m \u001B[38;5;21;01merr\u001B[39;00m\n\u001B[0;32m   3805\u001B[0m \u001B[38;5;28;01mexcept\u001B[39;00m \u001B[38;5;167;01mTypeError\u001B[39;00m:\n\u001B[0;32m   3806\u001B[0m     \u001B[38;5;66;03m# If we have a listlike key, _check_indexing_error will raise\u001B[39;00m\n\u001B[0;32m   3807\u001B[0m     \u001B[38;5;66;03m#  InvalidIndexError. Otherwise we fall through and re-raise\u001B[39;00m\n\u001B[0;32m   3808\u001B[0m     \u001B[38;5;66;03m#  the TypeError.\u001B[39;00m\n\u001B[0;32m   3809\u001B[0m     \u001B[38;5;28mself\u001B[39m\u001B[38;5;241m.\u001B[39m_check_indexing_error(key)\n",
      "\u001B[1;31mKeyError\u001B[0m: 0"
     ]
    }
   ],
   "source": [
    "sns.barplot(df_pre['purchase_sum'].quantile(quantiles))"
   ],
   "metadata": {
    "collapsed": false,
    "ExecuteTime": {
     "end_time": "2024-06-30T16:58:30.832203Z",
     "start_time": "2024-06-30T16:58:30.774677Z"
    }
   },
   "id": "cd215366e9bc62d7",
   "execution_count": 90
  },
  {
   "cell_type": "code",
   "outputs": [
    {
     "data": {
      "text/plain": "0.1       405.5\n0.2       620.0\n0.3       844.0\n0.4      1103.0\n0.5      1470.5\n0.6      2008.0\n0.7      2731.0\n0.8      4078.0\n0.9      6906.5\n1.0    162687.0\nName: purchase_sum, dtype: float64"
     },
     "execution_count": 91,
     "metadata": {},
     "output_type": "execute_result"
    }
   ],
   "source": [
    "df_pre['purchase_sum'].quantile(quantiles)"
   ],
   "metadata": {
    "collapsed": false,
    "ExecuteTime": {
     "end_time": "2024-06-30T16:58:31.396117Z",
     "start_time": "2024-06-30T16:58:31.388597Z"
    }
   },
   "id": "ad6e6a759b05ff5f",
   "execution_count": 91
  },
  {
   "cell_type": "code",
   "outputs": [
    {
     "data": {
      "text/plain": "0.1       405.5\n0.2       620.0\n0.3       844.0\n0.4      1103.0\n0.5      1470.5\n0.6      2008.0\n0.7      2731.0\n0.8      4078.0\n0.9      6906.5\n1.0    162687.0\nName: purchase_sum, dtype: float64"
     },
     "execution_count": 95,
     "metadata": {},
     "output_type": "execute_result"
    }
   ],
   "source": [
    "df_pre['purchase_sum'].quantile(quantiles)"
   ],
   "metadata": {
    "collapsed": false,
    "ExecuteTime": {
     "end_time": "2024-06-30T17:02:04.274914Z",
     "start_time": "2024-06-30T17:02:04.270242Z"
    }
   },
   "id": "bb30fdd0dd317657",
   "execution_count": 95
  },
  {
   "cell_type": "code",
   "outputs": [],
   "source": [
    "purchase = pd.DataFrame([df_pre['purchase_sum'].quantile(quantiles).values,df_pre['purchase_sum'].quantile(quantiles).index]).T\n",
    "purchase[1] = purchase[1].apply(lambda x:round(x,2))"
   ],
   "metadata": {
    "collapsed": false,
    "ExecuteTime": {
     "end_time": "2024-06-30T17:22:09.249176Z",
     "start_time": "2024-06-30T17:22:09.243830Z"
    }
   },
   "id": "6b910f407eb4a016",
   "execution_count": 134
  },
  {
   "cell_type": "code",
   "outputs": [
    {
     "data": {
      "text/plain": "[Text(0, 0, '405.5'),\n Text(0, 0, '620'),\n Text(0, 0, '844'),\n Text(0, 0, '1103'),\n Text(0, 0, '1470.5'),\n Text(0, 0, '2008'),\n Text(0, 0, '2731'),\n Text(0, 0, '4078'),\n Text(0, 0, '6906.5'),\n Text(0, 0, '162687')]"
     },
     "execution_count": 141,
     "metadata": {},
     "output_type": "execute_result"
    },
    {
     "data": {
      "text/plain": "<Figure size 1170x827 with 1 Axes>",
      "image/png": "[encoded data removed]"
     },
     "metadata": {},
     "output_type": "display_data"
    }
   ],
   "source": [
    "sns.set_theme(rc={'figure.figsize':(11.7,8.27)})\n",
    "ax = sns.barplot(\n",
    "    purchase, x = 0, y = 1, \n",
    "    orient='h',\n",
    ")\n",
    "ax.bar_label(ax.containers[0])"
   ],
   "metadata": {
    "collapsed": false,
    "ExecuteTime": {
     "end_time": "2024-06-30T17:28:54.583015Z",
     "start_time": "2024-06-30T17:28:54.448210Z"
    }
   },
   "id": "bc36a0b9583d400e",
   "execution_count": 141
  },
  {
   "cell_type": "code",
   "outputs": [
    {
     "ename": "KeyError",
     "evalue": "0",
     "output_type": "error",
     "traceback": [
      "\u001B[1;31m---------------------------------------------------------------------------\u001B[0m",
      "\u001B[1;31mKeyError\u001B[0m                                  Traceback (most recent call last)",
      "File \u001B[1;32m~\\AppData\\Roaming\\Python\\Python311\\site-packages\\pandas\\core\\indexes\\base.py:3802\u001B[0m, in \u001B[0;36mIndex.get_loc\u001B[1;34m(self, key, method, tolerance)\u001B[0m\n\u001B[0;32m   3801\u001B[0m \u001B[38;5;28;01mtry\u001B[39;00m:\n\u001B[1;32m-> 3802\u001B[0m     \u001B[38;5;28;01mreturn\u001B[39;00m \u001B[38;5;28mself\u001B[39m\u001B[38;5;241m.\u001B[39m_engine\u001B[38;5;241m.\u001B[39mget_loc(casted_key)\n\u001B[0;32m   3803\u001B[0m \u001B[38;5;28;01mexcept\u001B[39;00m \u001B[38;5;167;01mKeyError\u001B[39;00m \u001B[38;5;28;01mas\u001B[39;00m err:\n",
      "File \u001B[1;32m~\\AppData\\Roaming\\Python\\Python311\\site-packages\\pandas\\_libs\\index.pyx:138\u001B[0m, in \u001B[0;36mpandas._libs.index.IndexEngine.get_loc\u001B[1;34m()\u001B[0m\n",
      "File \u001B[1;32m~\\AppData\\Roaming\\Python\\Python311\\site-packages\\pandas\\_libs\\index.pyx:165\u001B[0m, in \u001B[0;36mpandas._libs.index.IndexEngine.get_loc\u001B[1;34m()\u001B[0m\n",
      "File \u001B[1;32mpandas\\_libs\\hashtable_class_helper.pxi:1577\u001B[0m, in \u001B[0;36mpandas._libs.hashtable.Float64HashTable.get_item\u001B[1;34m()\u001B[0m\n",
      "File \u001B[1;32mpandas\\_libs\\hashtable_class_helper.pxi:1587\u001B[0m, in \u001B[0;36mpandas._libs.hashtable.Float64HashTable.get_item\u001B[1;34m()\u001B[0m\n",
      "\u001B[1;31mKeyError\u001B[0m: 0.0",
      "\nThe above exception was the direct cause of the following exception:\n",
      "\u001B[1;31mKeyError\u001B[0m                                  Traceback (most recent call last)",
      "Cell \u001B[1;32mIn[84], line 1\u001B[0m\n\u001B[1;32m----> 1\u001B[0m bax \u001B[38;5;241m=\u001B[39m sns\u001B[38;5;241m.\u001B[39mbarplot(\n\u001B[0;32m      2\u001B[0m     df_pre[\u001B[38;5;124m'\u001B[39m\u001B[38;5;124mpurchase_sum\u001B[39m\u001B[38;5;124m'\u001B[39m]\u001B[38;5;241m.\u001B[39mquantile(quantiles),\n\u001B[0;32m      3\u001B[0m     orient\u001B[38;5;241m=\u001B[39m\u001B[38;5;124m'\u001B[39m\u001B[38;5;124mh\u001B[39m\u001B[38;5;124m'\u001B[39m\n\u001B[0;32m      4\u001B[0m )\n\u001B[0;32m      5\u001B[0m ax\u001B[38;5;241m.\u001B[39mbar_label(ax\u001B[38;5;241m.\u001B[39mcontainers[\u001B[38;5;241m-\u001B[39m\u001B[38;5;241m1\u001B[39m])\n",
      "File \u001B[1;32mD:\\hran\\anacondaz\\Lib\\site-packages\\seaborn\\categorical.py:2755\u001B[0m, in \u001B[0;36mbarplot\u001B[1;34m(data, x, y, hue, order, hue_order, estimator, errorbar, n_boot, units, seed, orient, color, palette, saturation, width, errcolor, errwidth, capsize, dodge, ci, ax, **kwargs)\u001B[0m\n\u001B[0;32m   2752\u001B[0m \u001B[38;5;28;01mif\u001B[39;00m estimator \u001B[38;5;129;01mis\u001B[39;00m \u001B[38;5;28mlen\u001B[39m:\n\u001B[0;32m   2753\u001B[0m     estimator \u001B[38;5;241m=\u001B[39m \u001B[38;5;124m\"\u001B[39m\u001B[38;5;124msize\u001B[39m\u001B[38;5;124m\"\u001B[39m\n\u001B[1;32m-> 2755\u001B[0m plotter \u001B[38;5;241m=\u001B[39m _BarPlotter(x, y, hue, data, order, hue_order,\n\u001B[0;32m   2756\u001B[0m                       estimator, errorbar, n_boot, units, seed,\n\u001B[0;32m   2757\u001B[0m                       orient, color, palette, saturation,\n\u001B[0;32m   2758\u001B[0m                       width, errcolor, errwidth, capsize, dodge)\n\u001B[0;32m   2760\u001B[0m \u001B[38;5;28;01mif\u001B[39;00m ax \u001B[38;5;129;01mis\u001B[39;00m \u001B[38;5;28;01mNone\u001B[39;00m:\n\u001B[0;32m   2761\u001B[0m     ax \u001B[38;5;241m=\u001B[39m plt\u001B[38;5;241m.\u001B[39mgca()\n",
      "File \u001B[1;32mD:\\hran\\anacondaz\\Lib\\site-packages\\seaborn\\categorical.py:1530\u001B[0m, in \u001B[0;36m_BarPlotter.__init__\u001B[1;34m(self, x, y, hue, data, order, hue_order, estimator, errorbar, n_boot, units, seed, orient, color, palette, saturation, width, errcolor, errwidth, capsize, dodge)\u001B[0m\n\u001B[0;32m   1525\u001B[0m \u001B[38;5;28;01mdef\u001B[39;00m \u001B[38;5;21m__init__\u001B[39m(\u001B[38;5;28mself\u001B[39m, x, y, hue, data, order, hue_order,\n\u001B[0;32m   1526\u001B[0m              estimator, errorbar, n_boot, units, seed,\n\u001B[0;32m   1527\u001B[0m              orient, color, palette, saturation, width,\n\u001B[0;32m   1528\u001B[0m              errcolor, errwidth, capsize, dodge):\n\u001B[0;32m   1529\u001B[0m \u001B[38;5;250m    \u001B[39m\u001B[38;5;124;03m\"\"\"Initialize the plotter.\"\"\"\u001B[39;00m\n\u001B[1;32m-> 1530\u001B[0m     \u001B[38;5;28mself\u001B[39m\u001B[38;5;241m.\u001B[39mestablish_variables(x, y, hue, data, orient,\n\u001B[0;32m   1531\u001B[0m                              order, hue_order, units)\n\u001B[0;32m   1532\u001B[0m     \u001B[38;5;28mself\u001B[39m\u001B[38;5;241m.\u001B[39mestablish_colors(color, palette, saturation)\n\u001B[0;32m   1533\u001B[0m     \u001B[38;5;28mself\u001B[39m\u001B[38;5;241m.\u001B[39mestimate_statistic(estimator, errorbar, n_boot, seed)\n",
      "File \u001B[1;32mD:\\hran\\anacondaz\\Lib\\site-packages\\seaborn\\categorical.py:486\u001B[0m, in \u001B[0;36m_CategoricalPlotter.establish_variables\u001B[1;34m(self, x, y, hue, data, orient, order, hue_order, units)\u001B[0m\n\u001B[0;32m    484\u001B[0m \u001B[38;5;28;01mif\u001B[39;00m \u001B[38;5;28mhasattr\u001B[39m(data, \u001B[38;5;124m\"\u001B[39m\u001B[38;5;124mshape\u001B[39m\u001B[38;5;124m\"\u001B[39m):\n\u001B[0;32m    485\u001B[0m     \u001B[38;5;28;01mif\u001B[39;00m \u001B[38;5;28mlen\u001B[39m(data\u001B[38;5;241m.\u001B[39mshape) \u001B[38;5;241m==\u001B[39m \u001B[38;5;241m1\u001B[39m:\n\u001B[1;32m--> 486\u001B[0m         \u001B[38;5;28;01mif\u001B[39;00m np\u001B[38;5;241m.\u001B[39misscalar(data[\u001B[38;5;241m0\u001B[39m]):\n\u001B[0;32m    487\u001B[0m             plot_data \u001B[38;5;241m=\u001B[39m [data]\n\u001B[0;32m    488\u001B[0m         \u001B[38;5;28;01melse\u001B[39;00m:\n",
      "File \u001B[1;32m~\\AppData\\Roaming\\Python\\Python311\\site-packages\\pandas\\core\\series.py:981\u001B[0m, in \u001B[0;36mSeries.__getitem__\u001B[1;34m(self, key)\u001B[0m\n\u001B[0;32m    978\u001B[0m     \u001B[38;5;28;01mreturn\u001B[39;00m \u001B[38;5;28mself\u001B[39m\u001B[38;5;241m.\u001B[39m_values[key]\n\u001B[0;32m    980\u001B[0m \u001B[38;5;28;01melif\u001B[39;00m key_is_scalar:\n\u001B[1;32m--> 981\u001B[0m     \u001B[38;5;28;01mreturn\u001B[39;00m \u001B[38;5;28mself\u001B[39m\u001B[38;5;241m.\u001B[39m_get_value(key)\n\u001B[0;32m    983\u001B[0m \u001B[38;5;28;01mif\u001B[39;00m is_hashable(key):\n\u001B[0;32m    984\u001B[0m     \u001B[38;5;66;03m# Otherwise index.get_value will raise InvalidIndexError\u001B[39;00m\n\u001B[0;32m    985\u001B[0m     \u001B[38;5;28;01mtry\u001B[39;00m:\n\u001B[0;32m    986\u001B[0m         \u001B[38;5;66;03m# For labels that don't resolve as scalars like tuples and frozensets\u001B[39;00m\n",
      "File \u001B[1;32m~\\AppData\\Roaming\\Python\\Python311\\site-packages\\pandas\\core\\series.py:1089\u001B[0m, in \u001B[0;36mSeries._get_value\u001B[1;34m(self, label, takeable)\u001B[0m\n\u001B[0;32m   1086\u001B[0m     \u001B[38;5;28;01mreturn\u001B[39;00m \u001B[38;5;28mself\u001B[39m\u001B[38;5;241m.\u001B[39m_values[label]\n\u001B[0;32m   1088\u001B[0m \u001B[38;5;66;03m# Similar to Index.get_value, but we do not fall back to positional\u001B[39;00m\n\u001B[1;32m-> 1089\u001B[0m loc \u001B[38;5;241m=\u001B[39m \u001B[38;5;28mself\u001B[39m\u001B[38;5;241m.\u001B[39mindex\u001B[38;5;241m.\u001B[39mget_loc(label)\n\u001B[0;32m   1090\u001B[0m \u001B[38;5;28;01mreturn\u001B[39;00m \u001B[38;5;28mself\u001B[39m\u001B[38;5;241m.\u001B[39mindex\u001B[38;5;241m.\u001B[39m_get_values_for_loc(\u001B[38;5;28mself\u001B[39m, loc, label)\n",
      "File \u001B[1;32m~\\AppData\\Roaming\\Python\\Python311\\site-packages\\pandas\\core\\indexes\\base.py:3804\u001B[0m, in \u001B[0;36mIndex.get_loc\u001B[1;34m(self, key, method, tolerance)\u001B[0m\n\u001B[0;32m   3802\u001B[0m     \u001B[38;5;28;01mreturn\u001B[39;00m \u001B[38;5;28mself\u001B[39m\u001B[38;5;241m.\u001B[39m_engine\u001B[38;5;241m.\u001B[39mget_loc(casted_key)\n\u001B[0;32m   3803\u001B[0m \u001B[38;5;28;01mexcept\u001B[39;00m \u001B[38;5;167;01mKeyError\u001B[39;00m \u001B[38;5;28;01mas\u001B[39;00m err:\n\u001B[1;32m-> 3804\u001B[0m     \u001B[38;5;28;01mraise\u001B[39;00m \u001B[38;5;167;01mKeyError\u001B[39;00m(key) \u001B[38;5;28;01mfrom\u001B[39;00m \u001B[38;5;21;01merr\u001B[39;00m\n\u001B[0;32m   3805\u001B[0m \u001B[38;5;28;01mexcept\u001B[39;00m \u001B[38;5;167;01mTypeError\u001B[39;00m:\n\u001B[0;32m   3806\u001B[0m     \u001B[38;5;66;03m# If we have a listlike key, _check_indexing_error will raise\u001B[39;00m\n\u001B[0;32m   3807\u001B[0m     \u001B[38;5;66;03m#  InvalidIndexError. Otherwise we fall through and re-raise\u001B[39;00m\n\u001B[0;32m   3808\u001B[0m     \u001B[38;5;66;03m#  the TypeError.\u001B[39;00m\n\u001B[0;32m   3809\u001B[0m     \u001B[38;5;28mself\u001B[39m\u001B[38;5;241m.\u001B[39m_check_indexing_error(key)\n",
      "\u001B[1;31mKeyError\u001B[0m: 0"
     ]
    }
   ],
   "source": [
    "bax = sns.barplot(\n",
    "    df_pre['purchase_sum'].quantile(quantiles),\n",
    "    orient='h'\n",
    ")\n",
    "ax.bar_label(ax.containers[-1]);"
   ],
   "metadata": {
    "collapsed": false,
    "ExecuteTime": {
     "end_time": "2024-06-30T16:57:56.890496Z",
     "start_time": "2024-06-30T16:57:56.839034Z"
    }
   },
   "id": "32d9cf3f72229456",
   "execution_count": 84
  },
  {
   "cell_type": "code",
   "outputs": [
    {
     "data": {
      "text/plain": "0.33    1.0\n0.66    3.0\nName: purchase_amount, dtype: float64"
     },
     "execution_count": 82,
     "metadata": {},
     "output_type": "execute_result"
    }
   ],
   "source": [
    "df_pre['purchase_amount'].quantile(quantiles)"
   ],
   "metadata": {
    "collapsed": false,
    "ExecuteTime": {
     "end_time": "2024-06-30T16:57:53.356255Z",
     "start_time": "2024-06-30T16:57:53.351590Z"
    }
   },
   "id": "f16eebf5b49979eb",
   "execution_count": 82
  },
  {
   "cell_type": "code",
   "outputs": [
    {
     "data": {
      "text/plain": "0.33     48.0\n0.66    143.0\nName: days_since, dtype: float64"
     },
     "execution_count": 83,
     "metadata": {},
     "output_type": "execute_result"
    }
   ],
   "source": [
    "df_pre['days_since'].quantile(quantiles)"
   ],
   "metadata": {
    "collapsed": false,
    "ExecuteTime": {
     "end_time": "2024-06-30T16:57:53.484221Z",
     "start_time": "2024-06-30T16:57:53.479683Z"
    }
   },
   "id": "a92f47b3d55fbfb4",
   "execution_count": 83
  },
  {
   "cell_type": "code",
   "outputs": [],
   "source": [
    "quantiles = [0.33,0.66]"
   ],
   "metadata": {
    "collapsed": false,
    "ExecuteTime": {
     "end_time": "2024-06-30T16:57:16.149041Z",
     "start_time": "2024-06-30T16:57:16.146508Z"
    }
   },
   "id": "4b2d1828d5d83100",
   "execution_count": 80
  },
  {
   "cell_type": "code",
   "outputs": [
    {
     "data": {
      "text/plain": "0.33     48.0\n0.66    143.0\nName: days_since, dtype: float64"
     },
     "execution_count": 81,
     "metadata": {},
     "output_type": "execute_result"
    }
   ],
   "source": [
    "df_pre['days_since'].quantile(quantiles)"
   ],
   "metadata": {
    "collapsed": false,
    "ExecuteTime": {
     "end_time": "2024-06-30T16:57:16.273522Z",
     "start_time": "2024-06-30T16:57:16.268553Z"
    }
   },
   "id": "46aa95502cb24cfe",
   "execution_count": 81
  },
  {
   "cell_type": "code",
   "outputs": [],
   "source": [],
   "metadata": {
    "collapsed": false
   },
   "id": "493054e30843ee90"
  }
 ],
 "metadata": {
  "kernelspec": {
   "display_name": "Python 3",
   "language": "python",
   "name": "python3"
  },
  "language_info": {
   "codemirror_mode": {
    "name": "ipython",
    "version": 2
   },
   "file_extension": ".py",
   "mimetype": "text/x-python",
   "name": "python",
   "nbconvert_exporter": "python",
   "pygments_lexer": "ipython2",
   "version": "2.7.6"
  }
 },
 "nbformat": 4,
 "nbformat_minor": 5
}
