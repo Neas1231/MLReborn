{
 "cells": [
  {
   "cell_type": "markdown",
   "metadata": {},
   "source": [
    "Предполагается, что в рамках данного задания ученики сами будут изучать документацию, как минимум используя функционал `tab` и `shift+tab` от Jupyter"
   ],
   "id": "517d4a35e4718a7e"
  },
  {
   "cell_type": "markdown",
   "metadata": {},
   "source": [
    "1. Импортируйте библиотеку pandas \n",
    "2. Считайте файл `wage.csv` в DataFrame с названием `wage`. Используйте для этого функцию pd.read_csv()\n",
    "\n",
    "`person_id` - идентификатор человека\n",
    "\n",
    "`gender` - пол, 0 - женский, 1 - мужской\n",
    "\n",
    "`wage` - заработная плата в рублях"
   ],
   "id": "e29388363f7488ab"
  },
  {
   "cell_type": "code",
   "execution_count": 2,
   "metadata": {
    "ExecuteTime": {
     "end_time": "2024-06-29T17:42:19.046214Z",
     "start_time": "2024-06-29T17:42:19.038593Z"
    }
   },
   "outputs": [
    {
     "data": {
      "text/plain": "      person_id  gender           wage\n0             0       1   46793.603811\n1             1       1   33481.575720\n2             2       1   44523.699084\n3             3       1   15995.576829\n4             4       0   10282.631224\n...         ...     ...            ...\n1001        995       1   66503.737185\n1002        996       1    9972.956272\n1003        997       0  104504.616392\n1004        998       1   98927.903076\n1005        999       1  108107.141368\n\n[1006 rows x 3 columns]",
      "text/html": "<div>\n<style scoped>\n    .dataframe tbody tr th:only-of-type {\n        vertical-align: middle;\n    }\n\n    .dataframe tbody tr th {\n        vertical-align: top;\n    }\n\n    .dataframe thead th {\n        text-align: right;\n    }\n</style>\n<table border=\"1\" class=\"dataframe\">\n  <thead>\n    <tr style=\"text-align: right;\">\n      <th></th>\n      <th>person_id</th>\n      <th>gender</th>\n      <th>wage</th>\n    </tr>\n  </thead>\n  <tbody>\n    <tr>\n      <th>0</th>\n      <td>0</td>\n      <td>1</td>\n      <td>46793.603811</td>\n    </tr>\n    <tr>\n      <th>1</th>\n      <td>1</td>\n      <td>1</td>\n      <td>33481.575720</td>\n    </tr>\n    <tr>\n      <th>2</th>\n      <td>2</td>\n      <td>1</td>\n      <td>44523.699084</td>\n    </tr>\n    <tr>\n      <th>3</th>\n      <td>3</td>\n      <td>1</td>\n      <td>15995.576829</td>\n    </tr>\n    <tr>\n      <th>4</th>\n      <td>4</td>\n      <td>0</td>\n      <td>10282.631224</td>\n    </tr>\n    <tr>\n      <th>...</th>\n      <td>...</td>\n      <td>...</td>\n      <td>...</td>\n    </tr>\n    <tr>\n      <th>1001</th>\n      <td>995</td>\n      <td>1</td>\n      <td>66503.737185</td>\n    </tr>\n    <tr>\n      <th>1002</th>\n      <td>996</td>\n      <td>1</td>\n      <td>9972.956272</td>\n    </tr>\n    <tr>\n      <th>1003</th>\n      <td>997</td>\n      <td>0</td>\n      <td>104504.616392</td>\n    </tr>\n    <tr>\n      <th>1004</th>\n      <td>998</td>\n      <td>1</td>\n      <td>98927.903076</td>\n    </tr>\n    <tr>\n      <th>1005</th>\n      <td>999</td>\n      <td>1</td>\n      <td>108107.141368</td>\n    </tr>\n  </tbody>\n</table>\n<p>1006 rows × 3 columns</p>\n</div>"
     },
     "execution_count": 2,
     "metadata": {},
     "output_type": "execute_result"
    }
   ],
   "source": [
    "import pandas as pd\n",
    "wage = pd.read_csv('./wage.csv')\n",
    "wage"
   ],
   "id": "131cbc13808a6560"
  },
  {
   "cell_type": "markdown",
   "metadata": {},
   "source": [
    "3. Поменяйте колонку `gender` так, чтобы были записи `F` (female) и `M` (male) вместо 0 и 1"
   ],
   "id": "9ffd55bfe8b6277c"
  },
  {
   "cell_type": "code",
   "execution_count": 5,
   "metadata": {
    "ExecuteTime": {
     "end_time": "2024-06-29T17:45:34.234100Z",
     "start_time": "2024-06-29T17:45:34.226956Z"
    }
   },
   "outputs": [
    {
     "data": {
      "text/plain": "      person_id gender           wage\n0             0      M   46793.603811\n1             1      M   33481.575720\n2             2      M   44523.699084\n3             3      M   15995.576829\n4             4      F   10282.631224\n...         ...    ...            ...\n1001        995      M   66503.737185\n1002        996      M    9972.956272\n1003        997      F  104504.616392\n1004        998      M   98927.903076\n1005        999      M  108107.141368\n\n[1006 rows x 3 columns]",
      "text/html": "<div>\n<style scoped>\n    .dataframe tbody tr th:only-of-type {\n        vertical-align: middle;\n    }\n\n    .dataframe tbody tr th {\n        vertical-align: top;\n    }\n\n    .dataframe thead th {\n        text-align: right;\n    }\n</style>\n<table border=\"1\" class=\"dataframe\">\n  <thead>\n    <tr style=\"text-align: right;\">\n      <th></th>\n      <th>person_id</th>\n      <th>gender</th>\n      <th>wage</th>\n    </tr>\n  </thead>\n  <tbody>\n    <tr>\n      <th>0</th>\n      <td>0</td>\n      <td>M</td>\n      <td>46793.603811</td>\n    </tr>\n    <tr>\n      <th>1</th>\n      <td>1</td>\n      <td>M</td>\n      <td>33481.575720</td>\n    </tr>\n    <tr>\n      <th>2</th>\n      <td>2</td>\n      <td>M</td>\n      <td>44523.699084</td>\n    </tr>\n    <tr>\n      <th>3</th>\n      <td>3</td>\n      <td>M</td>\n      <td>15995.576829</td>\n    </tr>\n    <tr>\n      <th>4</th>\n      <td>4</td>\n      <td>F</td>\n      <td>10282.631224</td>\n    </tr>\n    <tr>\n      <th>...</th>\n      <td>...</td>\n      <td>...</td>\n      <td>...</td>\n    </tr>\n    <tr>\n      <th>1001</th>\n      <td>995</td>\n      <td>M</td>\n      <td>66503.737185</td>\n    </tr>\n    <tr>\n      <th>1002</th>\n      <td>996</td>\n      <td>M</td>\n      <td>9972.956272</td>\n    </tr>\n    <tr>\n      <th>1003</th>\n      <td>997</td>\n      <td>F</td>\n      <td>104504.616392</td>\n    </tr>\n    <tr>\n      <th>1004</th>\n      <td>998</td>\n      <td>M</td>\n      <td>98927.903076</td>\n    </tr>\n    <tr>\n      <th>1005</th>\n      <td>999</td>\n      <td>M</td>\n      <td>108107.141368</td>\n    </tr>\n  </tbody>\n</table>\n<p>1006 rows × 3 columns</p>\n</div>"
     },
     "execution_count": 5,
     "metadata": {},
     "output_type": "execute_result"
    }
   ],
   "source": [
    "wage.loc[wage['gender'] == 1,'gender'] = 'M'\n",
    "wage.loc[wage['gender'] == 0,'gender'] = 'F'\n",
    "wage"
   ],
   "id": "7838f91182b60272"
  },
  {
   "cell_type": "markdown",
   "metadata": {},
   "source": [
    "4. Давайте посчитаем среднюю зарплату у мужчин и женщин. Для этого используйте метод `groupby` со следующим синтаксисом:\n",
    "\n",
    "`dataframe.groupby(Название_колонки_для_группировки)[Перечисление_колонок_для_агрегации].функция_агрегации()`"
   ],
   "id": "f3ac74e77f7da6be"
  },
  {
   "cell_type": "code",
   "execution_count": 7,
   "metadata": {
    "ExecuteTime": {
     "end_time": "2024-06-29T17:46:43.314107Z",
     "start_time": "2024-06-29T17:46:43.309144Z"
    }
   },
   "outputs": [
    {
     "data": {
      "text/plain": "gender\nF    40855.747261\nM    46815.944005\nName: wage, dtype: float64"
     },
     "execution_count": 7,
     "metadata": {},
     "output_type": "execute_result"
    }
   ],
   "source": [
    "wage.groupby('gender')['wage'].mean()"
   ],
   "id": "2d0d0326a7c17acf"
  },
  {
   "cell_type": "markdown",
   "metadata": {},
   "source": [
    "5. Теперь взглянем внимательнее на данные и обнаружим, что некоторые люди попали в выборку несколько раз. \n",
    "    1. Найдите таких людей. Подсказка: `value_counts()`\n",
    "    0. Убедитесь, что записи по ним с одинаковым `wage`. Возможно, тут вам пригодится функция агрегации `nunique()`, отображающая количество разных значений\n",
    "    0. Избавьтесь от повторяющихся значений. Подсказка: `drop_duplicates()`"
   ],
   "id": "a20439d197bb8cb"
  },
  {
   "cell_type": "code",
   "execution_count": 8,
   "metadata": {
    "ExecuteTime": {
     "end_time": "2024-06-29T17:47:06.742001Z",
     "start_time": "2024-06-29T17:47:06.737337Z"
    }
   },
   "outputs": [
    {
     "data": {
      "text/plain": "17     2\n16     2\n15     2\n14     2\n13     2\n      ..\n342    1\n343    1\n344    1\n345    1\n999    1\nName: person_id, Length: 1000, dtype: int64"
     },
     "execution_count": 8,
     "metadata": {},
     "output_type": "execute_result"
    }
   ],
   "source": [
    "wage['person_id'].value_counts()"
   ],
   "id": "a241e9b7a3ea1ff8"
  },
  {
   "cell_type": "code",
   "outputs": [
    {
     "name": "stdout",
     "output_type": "stream",
     "text": [
      "    person_id gender         wage\n",
      "22         17      M  20178.98506\n",
      "23         17      M  20178.98506\n",
      "    person_id gender          wage\n",
      "20         16      F  35448.040878\n",
      "21         16      F  35448.040878\n",
      "    person_id gender          wage\n",
      "18         15      F  68341.332163\n",
      "19         15      F  68341.332163\n",
      "    person_id gender          wage\n",
      "16         14      M  13434.655493\n",
      "17         14      M  13434.655493\n",
      "    person_id gender           wage\n",
      "14         13      M  273483.609236\n",
      "15         13      M  273483.609236\n",
      "    person_id gender          wage\n",
      "12         12      M  23547.663281\n",
      "13         12      M  23547.663281\n"
     ]
    }
   ],
   "source": [
    "for num in [17,16,15,14,13,12]:\n",
    "    print(wage.loc[wage['person_id'] == num,:])"
   ],
   "metadata": {
    "collapsed": false,
    "ExecuteTime": {
     "end_time": "2024-06-29T17:51:03.930460Z",
     "start_time": "2024-06-29T17:51:03.922398Z"
    }
   },
   "id": "d8e5c25ee5db4463",
   "execution_count": 14
  },
  {
   "cell_type": "code",
   "outputs": [
    {
     "data": {
      "text/plain": "person_id\n0      1\n1      1\n2      1\n3      1\n4      1\n      ..\n995    1\n996    1\n997    1\n998    1\n999    1\nName: wage, Length: 1000, dtype: int64"
     },
     "execution_count": 11,
     "metadata": {},
     "output_type": "execute_result"
    }
   ],
   "source": [
    "wage.groupby('person_id')['wage'].nunique()"
   ],
   "metadata": {
    "collapsed": false,
    "ExecuteTime": {
     "end_time": "2024-06-29T17:49:00.668442Z",
     "start_time": "2024-06-29T17:49:00.663010Z"
    }
   },
   "id": "c91a503f27c8fe32",
   "execution_count": 11
  },
  {
   "cell_type": "code",
   "outputs": [
    {
     "data": {
      "text/plain": "      person_id gender           wage\n0             0      M   46793.603811\n1             1      M   33481.575720\n2             2      M   44523.699084\n3             3      M   15995.576829\n4             4      F   10282.631224\n...         ...    ...            ...\n1001        995      M   66503.737185\n1002        996      M    9972.956272\n1003        997      F  104504.616392\n1004        998      M   98927.903076\n1005        999      M  108107.141368\n\n[1000 rows x 3 columns]",
      "text/html": "<div>\n<style scoped>\n    .dataframe tbody tr th:only-of-type {\n        vertical-align: middle;\n    }\n\n    .dataframe tbody tr th {\n        vertical-align: top;\n    }\n\n    .dataframe thead th {\n        text-align: right;\n    }\n</style>\n<table border=\"1\" class=\"dataframe\">\n  <thead>\n    <tr style=\"text-align: right;\">\n      <th></th>\n      <th>person_id</th>\n      <th>gender</th>\n      <th>wage</th>\n    </tr>\n  </thead>\n  <tbody>\n    <tr>\n      <th>0</th>\n      <td>0</td>\n      <td>M</td>\n      <td>46793.603811</td>\n    </tr>\n    <tr>\n      <th>1</th>\n      <td>1</td>\n      <td>M</td>\n      <td>33481.575720</td>\n    </tr>\n    <tr>\n      <th>2</th>\n      <td>2</td>\n      <td>M</td>\n      <td>44523.699084</td>\n    </tr>\n    <tr>\n      <th>3</th>\n      <td>3</td>\n      <td>M</td>\n      <td>15995.576829</td>\n    </tr>\n    <tr>\n      <th>4</th>\n      <td>4</td>\n      <td>F</td>\n      <td>10282.631224</td>\n    </tr>\n    <tr>\n      <th>...</th>\n      <td>...</td>\n      <td>...</td>\n      <td>...</td>\n    </tr>\n    <tr>\n      <th>1001</th>\n      <td>995</td>\n      <td>M</td>\n      <td>66503.737185</td>\n    </tr>\n    <tr>\n      <th>1002</th>\n      <td>996</td>\n      <td>M</td>\n      <td>9972.956272</td>\n    </tr>\n    <tr>\n      <th>1003</th>\n      <td>997</td>\n      <td>F</td>\n      <td>104504.616392</td>\n    </tr>\n    <tr>\n      <th>1004</th>\n      <td>998</td>\n      <td>M</td>\n      <td>98927.903076</td>\n    </tr>\n    <tr>\n      <th>1005</th>\n      <td>999</td>\n      <td>M</td>\n      <td>108107.141368</td>\n    </tr>\n  </tbody>\n</table>\n<p>1000 rows × 3 columns</p>\n</div>"
     },
     "execution_count": 15,
     "metadata": {},
     "output_type": "execute_result"
    }
   ],
   "source": [
    "wage.drop_duplicates(inplace=True)\n",
    "wage"
   ],
   "metadata": {
    "collapsed": false,
    "ExecuteTime": {
     "end_time": "2024-06-29T17:51:32.433852Z",
     "start_time": "2024-06-29T17:51:32.426625Z"
    }
   },
   "id": "efdf7615c4533acf",
   "execution_count": 15
  },
  {
   "cell_type": "markdown",
   "metadata": {},
   "source": [
    "6. Теперь посмотрим внимательнее на зарплаты\n",
    "    1. Охарактеризуйте имеющиеся данные по зарплатам. Подсказка: `describe`\n",
    "    1. Избавьтесь от бессмысленных значений"
   ],
   "id": "3cbc3348ba39b89b"
  },
  {
   "cell_type": "code",
   "execution_count": 27,
   "metadata": {
    "ExecuteTime": {
     "end_time": "2024-06-29T17:52:53.755464Z",
     "start_time": "2024-06-29T17:52:53.750277Z"
    }
   },
   "outputs": [
    {
     "data": {
      "text/plain": "count      1000.000000\nmean      43694.227404\nstd       55352.539343\nmin     -287418.645743\n25%       14489.682367\n50%       27309.529498\n75%       52021.080258\nmax      755320.874132\nName: wage, dtype: float64"
     },
     "execution_count": 27,
     "metadata": {},
     "output_type": "execute_result"
    }
   ],
   "source": [
    "wage['wage'].describe()"
   ],
   "id": "b5b66f81990371d3"
  },
  {
   "cell_type": "code",
   "outputs": [
    {
     "data": {
      "text/plain": "      person_id gender           wage\n0             0      M   46793.603811\n1             1      M   33481.575720\n2             2      M   44523.699084\n3             3      M   15995.576829\n4             4      F   10282.631224\n...         ...    ...            ...\n1001        995      M   66503.737185\n1002        996      M    9972.956272\n1003        997      F  104504.616392\n1004        998      M   98927.903076\n1005        999      M  108107.141368\n\n[995 rows x 3 columns]",
      "text/html": "<div>\n<style scoped>\n    .dataframe tbody tr th:only-of-type {\n        vertical-align: middle;\n    }\n\n    .dataframe tbody tr th {\n        vertical-align: top;\n    }\n\n    .dataframe thead th {\n        text-align: right;\n    }\n</style>\n<table border=\"1\" class=\"dataframe\">\n  <thead>\n    <tr style=\"text-align: right;\">\n      <th></th>\n      <th>person_id</th>\n      <th>gender</th>\n      <th>wage</th>\n    </tr>\n  </thead>\n  <tbody>\n    <tr>\n      <th>0</th>\n      <td>0</td>\n      <td>M</td>\n      <td>46793.603811</td>\n    </tr>\n    <tr>\n      <th>1</th>\n      <td>1</td>\n      <td>M</td>\n      <td>33481.575720</td>\n    </tr>\n    <tr>\n      <th>2</th>\n      <td>2</td>\n      <td>M</td>\n      <td>44523.699084</td>\n    </tr>\n    <tr>\n      <th>3</th>\n      <td>3</td>\n      <td>M</td>\n      <td>15995.576829</td>\n    </tr>\n    <tr>\n      <th>4</th>\n      <td>4</td>\n      <td>F</td>\n      <td>10282.631224</td>\n    </tr>\n    <tr>\n      <th>...</th>\n      <td>...</td>\n      <td>...</td>\n      <td>...</td>\n    </tr>\n    <tr>\n      <th>1001</th>\n      <td>995</td>\n      <td>M</td>\n      <td>66503.737185</td>\n    </tr>\n    <tr>\n      <th>1002</th>\n      <td>996</td>\n      <td>M</td>\n      <td>9972.956272</td>\n    </tr>\n    <tr>\n      <th>1003</th>\n      <td>997</td>\n      <td>F</td>\n      <td>104504.616392</td>\n    </tr>\n    <tr>\n      <th>1004</th>\n      <td>998</td>\n      <td>M</td>\n      <td>98927.903076</td>\n    </tr>\n    <tr>\n      <th>1005</th>\n      <td>999</td>\n      <td>M</td>\n      <td>108107.141368</td>\n    </tr>\n  </tbody>\n</table>\n<p>995 rows × 3 columns</p>\n</div>"
     },
     "execution_count": 34,
     "metadata": {},
     "output_type": "execute_result"
    }
   ],
   "source": [
    "wage.drop(wage.loc[wage['wage']<=0,'wage'].index,inplace=True)"
   ],
   "metadata": {
    "collapsed": false,
    "ExecuteTime": {
     "end_time": "2024-06-29T17:54:40.789367Z",
     "start_time": "2024-06-29T17:54:40.783192Z"
    }
   },
   "id": "4de285f3bf986b67",
   "execution_count": 34
  },
  {
   "cell_type": "markdown",
   "metadata": {},
   "source": [
    "7. Давайте теперь посмотрим на зарплату с учетом бонуса. Для этого нам понадобится таблица `bonus.csv`. Считайте ее в переменную `bonus`. Заметьте, что она сохранена немного в другом формате, и вам понадобится уточнить параметр `sep` - разделитель записей. Сравните текущий файл с предыдущим и попробуйте решить проблему"
   ],
   "id": "53bb979a8269109b"
  },
  {
   "cell_type": "code",
   "execution_count": 39,
   "metadata": {
    "ExecuteTime": {
     "end_time": "2024-06-29T17:57:09.970874Z",
     "start_time": "2024-06-29T17:57:09.963797Z"
    }
   },
   "outputs": [
    {
     "data": {
      "text/plain": "     person_id         bonus\n0            0  3.332934e+04\n1            2  3.192912e+06\n2            3  2.196858e+04\n3            5  5.316780e+04\n4            6  1.475011e+04\n..         ...           ...\n445        991  6.688048e+04\n446        992  1.921558e+05\n447        995  3.452137e+03\n448        996  3.892790e+05\n449        997  5.380978e+04\n\n[450 rows x 2 columns]",
      "text/html": "<div>\n<style scoped>\n    .dataframe tbody tr th:only-of-type {\n        vertical-align: middle;\n    }\n\n    .dataframe tbody tr th {\n        vertical-align: top;\n    }\n\n    .dataframe thead th {\n        text-align: right;\n    }\n</style>\n<table border=\"1\" class=\"dataframe\">\n  <thead>\n    <tr style=\"text-align: right;\">\n      <th></th>\n      <th>person_id</th>\n      <th>bonus</th>\n    </tr>\n  </thead>\n  <tbody>\n    <tr>\n      <th>0</th>\n      <td>0</td>\n      <td>3.332934e+04</td>\n    </tr>\n    <tr>\n      <th>1</th>\n      <td>2</td>\n      <td>3.192912e+06</td>\n    </tr>\n    <tr>\n      <th>2</th>\n      <td>3</td>\n      <td>2.196858e+04</td>\n    </tr>\n    <tr>\n      <th>3</th>\n      <td>5</td>\n      <td>5.316780e+04</td>\n    </tr>\n    <tr>\n      <th>4</th>\n      <td>6</td>\n      <td>1.475011e+04</td>\n    </tr>\n    <tr>\n      <th>...</th>\n      <td>...</td>\n      <td>...</td>\n    </tr>\n    <tr>\n      <th>445</th>\n      <td>991</td>\n      <td>6.688048e+04</td>\n    </tr>\n    <tr>\n      <th>446</th>\n      <td>992</td>\n      <td>1.921558e+05</td>\n    </tr>\n    <tr>\n      <th>447</th>\n      <td>995</td>\n      <td>3.452137e+03</td>\n    </tr>\n    <tr>\n      <th>448</th>\n      <td>996</td>\n      <td>3.892790e+05</td>\n    </tr>\n    <tr>\n      <th>449</th>\n      <td>997</td>\n      <td>5.380978e+04</td>\n    </tr>\n  </tbody>\n</table>\n<p>450 rows × 2 columns</p>\n</div>"
     },
     "execution_count": 39,
     "metadata": {},
     "output_type": "execute_result"
    }
   ],
   "source": [
    "bonus = pd.read_csv('./bonus.csv',sep=';')\n",
    "bonus = bonus.sort_values('person_id').reset_index(drop=True)\n",
    "bonus"
   ],
   "id": "c7765a5ecb59f763"
  },
  {
   "cell_type": "markdown",
   "metadata": {},
   "source": [
    "8. Чтобы посчитать итоговую зарплату, нам нужно по каждому человеку знать и оклад, и премию. Для этого надо будет соединить (сджойнить) таблицы по `person_id`. Используйте для этого функцию `pd.merge`. Помните, что параметр `how` должен быть `'outer'`, чтобы сохранить те записи, что есть только в одной таблице. Результат запишите в новый dataframe `df`"
   ],
   "id": "36c5f210094416f8"
  },
  {
   "cell_type": "code",
   "execution_count": 41,
   "metadata": {
    "ExecuteTime": {
     "end_time": "2024-06-29T17:58:44.627069Z",
     "start_time": "2024-06-29T17:58:44.619024Z"
    }
   },
   "outputs": [
    {
     "data": {
      "text/plain": "      person_id gender           wage         bonus\n0             0      M   46793.603811  3.332934e+04\n1             1      M   33481.575720           NaN\n2             2      M   44523.699084  3.192912e+06\n3             3      M   15995.576829  2.196858e+04\n4             4      F   10282.631224           NaN\n...         ...    ...            ...           ...\n997         995      M   66503.737185  3.452137e+03\n998         996      M    9972.956272  3.892790e+05\n999         997      F  104504.616392  5.380978e+04\n1000        998      M   98927.903076           NaN\n1001        999      M  108107.141368           NaN\n\n[1002 rows x 4 columns]",
      "text/html": "<div>\n<style scoped>\n    .dataframe tbody tr th:only-of-type {\n        vertical-align: middle;\n    }\n\n    .dataframe tbody tr th {\n        vertical-align: top;\n    }\n\n    .dataframe thead th {\n        text-align: right;\n    }\n</style>\n<table border=\"1\" class=\"dataframe\">\n  <thead>\n    <tr style=\"text-align: right;\">\n      <th></th>\n      <th>person_id</th>\n      <th>gender</th>\n      <th>wage</th>\n      <th>bonus</th>\n    </tr>\n  </thead>\n  <tbody>\n    <tr>\n      <th>0</th>\n      <td>0</td>\n      <td>M</td>\n      <td>46793.603811</td>\n      <td>3.332934e+04</td>\n    </tr>\n    <tr>\n      <th>1</th>\n      <td>1</td>\n      <td>M</td>\n      <td>33481.575720</td>\n      <td>NaN</td>\n    </tr>\n    <tr>\n      <th>2</th>\n      <td>2</td>\n      <td>M</td>\n      <td>44523.699084</td>\n      <td>3.192912e+06</td>\n    </tr>\n    <tr>\n      <th>3</th>\n      <td>3</td>\n      <td>M</td>\n      <td>15995.576829</td>\n      <td>2.196858e+04</td>\n    </tr>\n    <tr>\n      <th>4</th>\n      <td>4</td>\n      <td>F</td>\n      <td>10282.631224</td>\n      <td>NaN</td>\n    </tr>\n    <tr>\n      <th>...</th>\n      <td>...</td>\n      <td>...</td>\n      <td>...</td>\n      <td>...</td>\n    </tr>\n    <tr>\n      <th>997</th>\n      <td>995</td>\n      <td>M</td>\n      <td>66503.737185</td>\n      <td>3.452137e+03</td>\n    </tr>\n    <tr>\n      <th>998</th>\n      <td>996</td>\n      <td>M</td>\n      <td>9972.956272</td>\n      <td>3.892790e+05</td>\n    </tr>\n    <tr>\n      <th>999</th>\n      <td>997</td>\n      <td>F</td>\n      <td>104504.616392</td>\n      <td>5.380978e+04</td>\n    </tr>\n    <tr>\n      <th>1000</th>\n      <td>998</td>\n      <td>M</td>\n      <td>98927.903076</td>\n      <td>NaN</td>\n    </tr>\n    <tr>\n      <th>1001</th>\n      <td>999</td>\n      <td>M</td>\n      <td>108107.141368</td>\n      <td>NaN</td>\n    </tr>\n  </tbody>\n</table>\n<p>1002 rows × 4 columns</p>\n</div>"
     },
     "execution_count": 41,
     "metadata": {},
     "output_type": "execute_result"
    }
   ],
   "source": [
    "df = pd.merge(left = wage, right=bonus,how='outer')\n",
    "df"
   ],
   "id": "3a2c3efefc98c6c8"
  },
  {
   "cell_type": "markdown",
   "metadata": {},
   "source": [
    "9. Наконец, давайте посчитаем итоговую зарплату\n",
    "    1. Замените отсутствующие записи в колонке `bonus` нулями\n",
    "    1. Уберите людей без `wage` - это те \"плохие\" записи, от которых мы избавлялись на предыдущих шагах\n",
    "    1. Сделайте новую колонку `total`, которая будет равна 12 окладам и премии\n",
    "    1. Посчитайте среднюю и медианную итоговую зарплату в разрезе по полу. Подсказка: вместо функции агрегации можно написать `.agg()` и перечислить внутри нужные агрегаты"
   ],
   "id": "10631c60c383bf55"
  },
  {
   "cell_type": "code",
   "execution_count": 44,
   "metadata": {
    "ExecuteTime": {
     "end_time": "2024-06-29T18:02:33.757693Z",
     "start_time": "2024-06-29T18:02:33.750518Z"
    }
   },
   "outputs": [
    {
     "data": {
      "text/plain": "                 mean         median\ngender                              \nF       570746.139432  347622.913892\nM       657142.490282  437499.824868",
      "text/html": "<div>\n<style scoped>\n    .dataframe tbody tr th:only-of-type {\n        vertical-align: middle;\n    }\n\n    .dataframe tbody tr th {\n        vertical-align: top;\n    }\n\n    .dataframe thead th {\n        text-align: right;\n    }\n</style>\n<table border=\"1\" class=\"dataframe\">\n  <thead>\n    <tr style=\"text-align: right;\">\n      <th></th>\n      <th>mean</th>\n      <th>median</th>\n    </tr>\n    <tr>\n      <th>gender</th>\n      <th></th>\n      <th></th>\n    </tr>\n  </thead>\n  <tbody>\n    <tr>\n      <th>F</th>\n      <td>570746.139432</td>\n      <td>347622.913892</td>\n    </tr>\n    <tr>\n      <th>M</th>\n      <td>657142.490282</td>\n      <td>437499.824868</td>\n    </tr>\n  </tbody>\n</table>\n</div>"
     },
     "execution_count": 44,
     "metadata": {},
     "output_type": "execute_result"
    }
   ],
   "source": [
    "df.fillna(0,inplace=True)\n",
    "df.drop(df.loc[df['wage']<=0,'wage'].index,inplace=True)\n",
    "df['total'] = df['wage']*12 + df['bonus']\n",
    "df.groupby('gender')['total'].agg(['mean','median'])"
   ],
   "id": "f1628b674548b47d"
  },
  {
   "cell_type": "markdown",
   "metadata": {},
   "source": [
    "10. Сохраните `df` в файл, используя метод `to_csv()`. Не записывайте индексы"
   ],
   "id": "19a6fc48a5e3a8d3"
  },
  {
   "cell_type": "code",
   "execution_count": 45,
   "metadata": {
    "ExecuteTime": {
     "end_time": "2024-06-29T18:03:01.790848Z",
     "start_time": "2024-06-29T18:03:01.785142Z"
    }
   },
   "outputs": [],
   "source": [
    "df.to_csv('wage_results.csv',index=False)"
   ],
   "id": "4fdc30a790a0891a"
  }
 ],
 "metadata": {
  "kernelspec": {
   "display_name": "Python 3",
   "language": "python",
   "name": "python3"
  },
  "language_info": {
   "codemirror_mode": {
    "name": "ipython",
    "version": 3
   },
   "file_extension": ".py",
   "mimetype": "text/x-python",
   "name": "python",
   "nbconvert_exporter": "python",
   "pygments_lexer": "ipython3",
   "version": "3.8.5"
  },
  "toc": {
   "base_numbering": 1,
   "nav_menu": {},
   "number_sections": true,
   "sideBar": true,
   "skip_h1_title": false,
   "title_cell": "Table of Contents",
   "title_sidebar": "Contents",
   "toc_cell": false,
   "toc_position": {},
   "toc_section_display": true,
   "toc_window_display": false
  }
 },
 "nbformat": 4,
 "nbformat_minor": 5
}
