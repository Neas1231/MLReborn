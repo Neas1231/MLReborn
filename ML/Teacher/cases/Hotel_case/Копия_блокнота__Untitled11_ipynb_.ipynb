{
 "nbformat": 4,
 "nbformat_minor": 0,
 "metadata": {
  "colab": {
   "provenance": []
  },
  "kernelspec": {
   "name": "python3",
   "language": "python",
   "display_name": "Python 3 (ipykernel)"
  },
  "language_info": {
   "name": "python"
  }
 },
 "cells": [
  {
   "cell_type": "markdown",
   "source": [
    "#!pip install pmdarima"
   ],
   "metadata": {
    "collapsed": false
   }
  },
  {
   "cell_type": "code",
   "source": [
    "import os\n",
    "import matplotlib.pyplot as plt\n",
    "import pandas as pd\n",
    "import seaborn as sns\n",
    "import plotly.graph_objects as go\n",
    "import numpy as np\n",
    "import plotly.express as px\n",
    "import datetime\n",
    "from statsmodels.tsa.stattools import adfuller\n",
    "from statsmodels.tsa.arima.model import ARIMA\n",
    "from sklearn.metrics import mean_squared_error\n",
    "#from pmdarima import auto_arima\n",
    "import warnings\n",
    "from sklearn.metrics import mean_absolute_percentage_error\n",
    "# import os\n",
    "# \n",
    "# for dirname, _, filenames in os.walk('/kaggle/input'):\n",
    "#     for filename in filenames:\n",
    "#         print(os.path.join(dirname, filename))\n",
    "# \n",
    "# warnings.filterwarnings(\"ignore\") # Импорт необходимых библиотек.\n"
   ],
   "metadata": {
    "id": "_rSkpFd2aa_W",
    "ExecuteTime": {
     "end_time": "2024-03-26T14:10:41.456326Z",
     "start_time": "2024-03-26T14:10:40.965567Z"
    }
   },
   "execution_count": 1,
   "outputs": []
  },
  {
   "cell_type": "code",
   "source": [
    "df= pd.read_csv('./data/train_final.csv')\n",
    "df"
   ],
   "metadata": {
    "id": "YH9cUGJ3aCI5",
    "colab": {
     "base_uri": "https://localhost:8080/",
     "height": 617
    },
    "outputId": "2e0c4c04-5994-4272-a12e-1d3c5d535f43",
    "ExecuteTime": {
     "end_time": "2024-03-26T14:10:41.539044Z",
     "start_time": "2024-03-26T14:10:41.457332Z"
    }
   },
   "execution_count": 2,
   "outputs": [
    {
     "data": {
      "text/plain": "              hotel  is_canceled  lead_time  arrival_date_year  \\\n0        City Hotel            0         25               2017   \n1        City Hotel            0        134               2016   \n2      Resort Hotel            0          0               2015   \n3      Resort Hotel            0         86               2015   \n4        City Hotel            0        156               2016   \n...             ...          ...        ...                ...   \n44643    City Hotel            1        265               2017   \n44644    City Hotel            1          6               2016   \n44645  Resort Hotel            1        106               2016   \n44646    City Hotel            1        151               2017   \n44647    City Hotel            1        277               2016   \n\n      arrival_date_month  arrival_date_week_number  arrival_date_day_of_month  \\\n0               February                         8                         22   \n1                 August                        32                          1   \n2               November                        48                         24   \n3                October                        43                         18   \n4                   July                        29                         11   \n...                  ...                       ...                        ...   \n44643             August                        31                          5   \n44644             August                        33                          8   \n44645              April                        17                         23   \n44646                May                        21                         27   \n44647           November                        46                          7   \n\n       stays_in_weekend_nights  stays_in_week_nights  adults  ...  \\\n0                            0                     4       3  ...   \n1                            1                     4       2  ...   \n2                            0                     1       1  ...   \n3                            2                     5       2  ...   \n4                            2                     5       2  ...   \n...                        ...                   ...     ...  ...   \n44643                        3                     6       2  ...   \n44644                        1                     0       1  ...   \n44645                        2                     2       2  ...   \n44646                        1                     1       2  ...   \n44647                        1                     2       2  ...   \n\n       reserved_room_type  assigned_room_type booking_changes deposit_type  \\\n0                       E                   E               0   No Deposit   \n1                       F                   F               0   No Deposit   \n2                       A                   A               0   No Deposit   \n3                       D                   D               0   No Deposit   \n4                       A                   D               1   No Deposit   \n...                   ...                 ...             ...          ...   \n44643                   A                   A               0   No Deposit   \n44644                   A                   A               0   No Deposit   \n44645                   A                   A               0   No Deposit   \n44646                   A                   A               0   No Deposit   \n44647                   A                   A               0   Non Refund   \n\n      days_in_waiting_list    customer_type     adr  \\\n0                        0        Transient  124.10   \n1                        0        Transient  176.45   \n2                        0        Transient   26.00   \n3                        0        Transient   50.03   \n4                        0        Transient   94.91   \n...                    ...              ...     ...   \n44643                    0        Transient   89.10   \n44644                    0  Transient-Party   65.00   \n44645                    0        Transient   52.20   \n44646                    0        Transient  133.00   \n44647                    0        Transient  100.00   \n\n       required_car_parking_spaces  total_of_special_requests  \\\n0                                0                          1   \n1                                0                          1   \n2                                1                          0   \n3                                0                          0   \n4                                0                          1   \n...                            ...                        ...   \n44643                            0                          0   \n44644                            0                          0   \n44645                            0                          0   \n44646                            0                          0   \n44647                            0                          0   \n\n      reservation_status_date  \n0                  2017-02-26  \n1                  2016-08-06  \n2                  2015-11-25  \n3                  2015-10-25  \n4                  2016-07-18  \n...                       ...  \n44643              2016-11-13  \n44644              2016-08-08  \n44645              2016-04-21  \n44646              2016-12-27  \n44647              2016-04-04  \n\n[44648 rows x 29 columns]",
      "text/html": "<div>\n<style scoped>\n    .dataframe tbody tr th:only-of-type {\n        vertical-align: middle;\n    }\n\n    .dataframe tbody tr th {\n        vertical-align: top;\n    }\n\n    .dataframe thead th {\n        text-align: right;\n    }\n</style>\n<table border=\"1\" class=\"dataframe\">\n  <thead>\n    <tr style=\"text-align: right;\">\n      <th></th>\n      <th>hotel</th>\n      <th>is_canceled</th>\n      <th>lead_time</th>\n      <th>arrival_date_year</th>\n      <th>arrival_date_month</th>\n      <th>arrival_date_week_number</th>\n      <th>arrival_date_day_of_month</th>\n      <th>stays_in_weekend_nights</th>\n      <th>stays_in_week_nights</th>\n      <th>adults</th>\n      <th>...</th>\n      <th>reserved_room_type</th>\n      <th>assigned_room_type</th>\n      <th>booking_changes</th>\n      <th>deposit_type</th>\n      <th>days_in_waiting_list</th>\n      <th>customer_type</th>\n      <th>adr</th>\n      <th>required_car_parking_spaces</th>\n      <th>total_of_special_requests</th>\n      <th>reservation_status_date</th>\n    </tr>\n  </thead>\n  <tbody>\n    <tr>\n      <th>0</th>\n      <td>City Hotel</td>\n      <td>0</td>\n      <td>25</td>\n      <td>2017</td>\n      <td>February</td>\n      <td>8</td>\n      <td>22</td>\n      <td>0</td>\n      <td>4</td>\n      <td>3</td>\n      <td>...</td>\n      <td>E</td>\n      <td>E</td>\n      <td>0</td>\n      <td>No Deposit</td>\n      <td>0</td>\n      <td>Transient</td>\n      <td>124.10</td>\n      <td>0</td>\n      <td>1</td>\n      <td>2017-02-26</td>\n    </tr>\n    <tr>\n      <th>1</th>\n      <td>City Hotel</td>\n      <td>0</td>\n      <td>134</td>\n      <td>2016</td>\n      <td>August</td>\n      <td>32</td>\n      <td>1</td>\n      <td>1</td>\n      <td>4</td>\n      <td>2</td>\n      <td>...</td>\n      <td>F</td>\n      <td>F</td>\n      <td>0</td>\n      <td>No Deposit</td>\n      <td>0</td>\n      <td>Transient</td>\n      <td>176.45</td>\n      <td>0</td>\n      <td>1</td>\n      <td>2016-08-06</td>\n    </tr>\n    <tr>\n      <th>2</th>\n      <td>Resort Hotel</td>\n      <td>0</td>\n      <td>0</td>\n      <td>2015</td>\n      <td>November</td>\n      <td>48</td>\n      <td>24</td>\n      <td>0</td>\n      <td>1</td>\n      <td>1</td>\n      <td>...</td>\n      <td>A</td>\n      <td>A</td>\n      <td>0</td>\n      <td>No Deposit</td>\n      <td>0</td>\n      <td>Transient</td>\n      <td>26.00</td>\n      <td>1</td>\n      <td>0</td>\n      <td>2015-11-25</td>\n    </tr>\n    <tr>\n      <th>3</th>\n      <td>Resort Hotel</td>\n      <td>0</td>\n      <td>86</td>\n      <td>2015</td>\n      <td>October</td>\n      <td>43</td>\n      <td>18</td>\n      <td>2</td>\n      <td>5</td>\n      <td>2</td>\n      <td>...</td>\n      <td>D</td>\n      <td>D</td>\n      <td>0</td>\n      <td>No Deposit</td>\n      <td>0</td>\n      <td>Transient</td>\n      <td>50.03</td>\n      <td>0</td>\n      <td>0</td>\n      <td>2015-10-25</td>\n    </tr>\n    <tr>\n      <th>4</th>\n      <td>City Hotel</td>\n      <td>0</td>\n      <td>156</td>\n      <td>2016</td>\n      <td>July</td>\n      <td>29</td>\n      <td>11</td>\n      <td>2</td>\n      <td>5</td>\n      <td>2</td>\n      <td>...</td>\n      <td>A</td>\n      <td>D</td>\n      <td>1</td>\n      <td>No Deposit</td>\n      <td>0</td>\n      <td>Transient</td>\n      <td>94.91</td>\n      <td>0</td>\n      <td>1</td>\n      <td>2016-07-18</td>\n    </tr>\n    <tr>\n      <th>...</th>\n      <td>...</td>\n      <td>...</td>\n      <td>...</td>\n      <td>...</td>\n      <td>...</td>\n      <td>...</td>\n      <td>...</td>\n      <td>...</td>\n      <td>...</td>\n      <td>...</td>\n      <td>...</td>\n      <td>...</td>\n      <td>...</td>\n      <td>...</td>\n      <td>...</td>\n      <td>...</td>\n      <td>...</td>\n      <td>...</td>\n      <td>...</td>\n      <td>...</td>\n      <td>...</td>\n    </tr>\n    <tr>\n      <th>44643</th>\n      <td>City Hotel</td>\n      <td>1</td>\n      <td>265</td>\n      <td>2017</td>\n      <td>August</td>\n      <td>31</td>\n      <td>5</td>\n      <td>3</td>\n      <td>6</td>\n      <td>2</td>\n      <td>...</td>\n      <td>A</td>\n      <td>A</td>\n      <td>0</td>\n      <td>No Deposit</td>\n      <td>0</td>\n      <td>Transient</td>\n      <td>89.10</td>\n      <td>0</td>\n      <td>0</td>\n      <td>2016-11-13</td>\n    </tr>\n    <tr>\n      <th>44644</th>\n      <td>City Hotel</td>\n      <td>1</td>\n      <td>6</td>\n      <td>2016</td>\n      <td>August</td>\n      <td>33</td>\n      <td>8</td>\n      <td>1</td>\n      <td>0</td>\n      <td>1</td>\n      <td>...</td>\n      <td>A</td>\n      <td>A</td>\n      <td>0</td>\n      <td>No Deposit</td>\n      <td>0</td>\n      <td>Transient-Party</td>\n      <td>65.00</td>\n      <td>0</td>\n      <td>0</td>\n      <td>2016-08-08</td>\n    </tr>\n    <tr>\n      <th>44645</th>\n      <td>Resort Hotel</td>\n      <td>1</td>\n      <td>106</td>\n      <td>2016</td>\n      <td>April</td>\n      <td>17</td>\n      <td>23</td>\n      <td>2</td>\n      <td>2</td>\n      <td>2</td>\n      <td>...</td>\n      <td>A</td>\n      <td>A</td>\n      <td>0</td>\n      <td>No Deposit</td>\n      <td>0</td>\n      <td>Transient</td>\n      <td>52.20</td>\n      <td>0</td>\n      <td>0</td>\n      <td>2016-04-21</td>\n    </tr>\n    <tr>\n      <th>44646</th>\n      <td>City Hotel</td>\n      <td>1</td>\n      <td>151</td>\n      <td>2017</td>\n      <td>May</td>\n      <td>21</td>\n      <td>27</td>\n      <td>1</td>\n      <td>1</td>\n      <td>2</td>\n      <td>...</td>\n      <td>A</td>\n      <td>A</td>\n      <td>0</td>\n      <td>No Deposit</td>\n      <td>0</td>\n      <td>Transient</td>\n      <td>133.00</td>\n      <td>0</td>\n      <td>0</td>\n      <td>2016-12-27</td>\n    </tr>\n    <tr>\n      <th>44647</th>\n      <td>City Hotel</td>\n      <td>1</td>\n      <td>277</td>\n      <td>2016</td>\n      <td>November</td>\n      <td>46</td>\n      <td>7</td>\n      <td>1</td>\n      <td>2</td>\n      <td>2</td>\n      <td>...</td>\n      <td>A</td>\n      <td>A</td>\n      <td>0</td>\n      <td>Non Refund</td>\n      <td>0</td>\n      <td>Transient</td>\n      <td>100.00</td>\n      <td>0</td>\n      <td>0</td>\n      <td>2016-04-04</td>\n    </tr>\n  </tbody>\n</table>\n<p>44648 rows × 29 columns</p>\n</div>"
     },
     "execution_count": 2,
     "metadata": {},
     "output_type": "execute_result"
    }
   ]
  },
  {
   "cell_type": "code",
   "source": [
    "df.info()"
   ],
   "metadata": {
    "id": "UyiATNT-dBVi",
    "colab": {
     "base_uri": "https://localhost:8080/"
    },
    "outputId": "ab61c0e1-2a7c-43e9-b936-b7dfb3e8e89a",
    "ExecuteTime": {
     "end_time": "2024-03-26T14:10:44.176349Z",
     "start_time": "2024-03-26T14:10:44.159846Z"
    }
   },
   "execution_count": 3,
   "outputs": [
    {
     "name": "stdout",
     "output_type": "stream",
     "text": [
      "<class 'pandas.core.frame.DataFrame'>\n",
      "RangeIndex: 44648 entries, 0 to 44647\n",
      "Data columns (total 29 columns):\n",
      " #   Column                          Non-Null Count  Dtype  \n",
      "---  ------                          --------------  -----  \n",
      " 0   hotel                           44648 non-null  object \n",
      " 1   is_canceled                     44648 non-null  int64  \n",
      " 2   lead_time                       44648 non-null  int64  \n",
      " 3   arrival_date_year               44648 non-null  int64  \n",
      " 4   arrival_date_month              44648 non-null  object \n",
      " 5   arrival_date_week_number        44648 non-null  int64  \n",
      " 6   arrival_date_day_of_month       44648 non-null  int64  \n",
      " 7   stays_in_weekend_nights         44648 non-null  int64  \n",
      " 8   stays_in_week_nights            44648 non-null  int64  \n",
      " 9   adults                          44648 non-null  int64  \n",
      " 10  children                        44648 non-null  float64\n",
      " 11  babies                          44648 non-null  int64  \n",
      " 12  meal                            44648 non-null  object \n",
      " 13  country                         44648 non-null  object \n",
      " 14  market_segment                  44648 non-null  object \n",
      " 15  distribution_channel            44648 non-null  object \n",
      " 16  is_repeated_guest               44648 non-null  int64  \n",
      " 17  previous_cancellations          44648 non-null  int64  \n",
      " 18  previous_bookings_not_canceled  44648 non-null  int64  \n",
      " 19  reserved_room_type              44648 non-null  object \n",
      " 20  assigned_room_type              44648 non-null  object \n",
      " 21  booking_changes                 44648 non-null  int64  \n",
      " 22  deposit_type                    44648 non-null  object \n",
      " 23  days_in_waiting_list            44648 non-null  int64  \n",
      " 24  customer_type                   44648 non-null  object \n",
      " 25  adr                             44648 non-null  float64\n",
      " 26  required_car_parking_spaces     44648 non-null  int64  \n",
      " 27  total_of_special_requests       44648 non-null  int64  \n",
      " 28  reservation_status_date         44648 non-null  object \n",
      "dtypes: float64(2), int64(16), object(11)\n",
      "memory usage: 9.9+ MB\n"
     ]
    }
   ]
  },
  {
   "cell_type": "code",
   "source": [
    "df.nunique()"
   ],
   "metadata": {
    "colab": {
     "base_uri": "https://localhost:8080/"
    },
    "id": "OhVr5DEv88Zd",
    "outputId": "2ac111a2-beb1-43bc-d9e8-03a451fd6116",
    "ExecuteTime": {
     "end_time": "2024-03-26T14:10:45.894253Z",
     "start_time": "2024-03-26T14:10:45.875067Z"
    }
   },
   "execution_count": 4,
   "outputs": [
    {
     "data": {
      "text/plain": "hotel                                2\nis_canceled                          2\nlead_time                          467\narrival_date_year                    3\narrival_date_month                  12\narrival_date_week_number            53\narrival_date_day_of_month           31\nstays_in_weekend_nights             14\nstays_in_week_nights                28\nadults                               7\nchildren                             5\nbabies                               4\nmeal                                 5\ncountry                            157\nmarket_segment                       7\ndistribution_channel                 4\nis_repeated_guest                    2\nprevious_cancellations              14\nprevious_bookings_not_canceled      53\nreserved_room_type                  10\nassigned_room_type                  11\nbooking_changes                     17\ndeposit_type                         3\ndays_in_waiting_list               112\ncustomer_type                        4\nadr                               5462\nrequired_car_parking_spaces          5\ntotal_of_special_requests            6\nreservation_status_date            888\ndtype: int64"
     },
     "execution_count": 4,
     "metadata": {},
     "output_type": "execute_result"
    }
   ]
  },
  {
   "cell_type": "code",
   "source": [
    "df.drop(columns=['arrival_date_week_number'],\n",
    "        inplace=True)"
   ],
   "metadata": {
    "id": "tbTPm7lyOFVf",
    "ExecuteTime": {
     "end_time": "2024-03-26T14:10:53.367515Z",
     "start_time": "2024-03-26T14:10:53.360233Z"
    }
   },
   "execution_count": 5,
   "outputs": []
  },
  {
   "cell_type": "code",
   "source": [
    "df"
   ],
   "metadata": {
    "colab": {
     "base_uri": "https://localhost:8080/",
     "height": 617
    },
    "id": "bYEQBWVSOtn2",
    "outputId": "83e0a41c-e6cf-4f65-cdf1-c4202061ef6d",
    "ExecuteTime": {
     "end_time": "2024-03-26T14:10:56.225196Z",
     "start_time": "2024-03-26T14:10:56.205189Z"
    }
   },
   "execution_count": 6,
   "outputs": [
    {
     "data": {
      "text/plain": "              hotel  is_canceled  lead_time  arrival_date_year  \\\n0        City Hotel            0         25               2017   \n1        City Hotel            0        134               2016   \n2      Resort Hotel            0          0               2015   \n3      Resort Hotel            0         86               2015   \n4        City Hotel            0        156               2016   \n...             ...          ...        ...                ...   \n44643    City Hotel            1        265               2017   \n44644    City Hotel            1          6               2016   \n44645  Resort Hotel            1        106               2016   \n44646    City Hotel            1        151               2017   \n44647    City Hotel            1        277               2016   \n\n      arrival_date_month  arrival_date_day_of_month  stays_in_weekend_nights  \\\n0               February                         22                        0   \n1                 August                          1                        1   \n2               November                         24                        0   \n3                October                         18                        2   \n4                   July                         11                        2   \n...                  ...                        ...                      ...   \n44643             August                          5                        3   \n44644             August                          8                        1   \n44645              April                         23                        2   \n44646                May                         27                        1   \n44647           November                          7                        1   \n\n       stays_in_week_nights  adults  children  ...  reserved_room_type  \\\n0                         4       3       0.0  ...                   E   \n1                         4       2       2.0  ...                   F   \n2                         1       1       0.0  ...                   A   \n3                         5       2       0.0  ...                   D   \n4                         5       2       1.0  ...                   A   \n...                     ...     ...       ...  ...                 ...   \n44643                     6       2       0.0  ...                   A   \n44644                     0       1       0.0  ...                   A   \n44645                     2       2       0.0  ...                   A   \n44646                     1       2       0.0  ...                   A   \n44647                     2       2       0.0  ...                   A   \n\n      assigned_room_type booking_changes deposit_type days_in_waiting_list  \\\n0                      E               0   No Deposit                    0   \n1                      F               0   No Deposit                    0   \n2                      A               0   No Deposit                    0   \n3                      D               0   No Deposit                    0   \n4                      D               1   No Deposit                    0   \n...                  ...             ...          ...                  ...   \n44643                  A               0   No Deposit                    0   \n44644                  A               0   No Deposit                    0   \n44645                  A               0   No Deposit                    0   \n44646                  A               0   No Deposit                    0   \n44647                  A               0   Non Refund                    0   \n\n         customer_type     adr  required_car_parking_spaces  \\\n0            Transient  124.10                            0   \n1            Transient  176.45                            0   \n2            Transient   26.00                            1   \n3            Transient   50.03                            0   \n4            Transient   94.91                            0   \n...                ...     ...                          ...   \n44643        Transient   89.10                            0   \n44644  Transient-Party   65.00                            0   \n44645        Transient   52.20                            0   \n44646        Transient  133.00                            0   \n44647        Transient  100.00                            0   \n\n      total_of_special_requests reservation_status_date  \n0                             1              2017-02-26  \n1                             1              2016-08-06  \n2                             0              2015-11-25  \n3                             0              2015-10-25  \n4                             1              2016-07-18  \n...                         ...                     ...  \n44643                         0              2016-11-13  \n44644                         0              2016-08-08  \n44645                         0              2016-04-21  \n44646                         0              2016-12-27  \n44647                         0              2016-04-04  \n\n[44648 rows x 28 columns]",
      "text/html": "<div>\n<style scoped>\n    .dataframe tbody tr th:only-of-type {\n        vertical-align: middle;\n    }\n\n    .dataframe tbody tr th {\n        vertical-align: top;\n    }\n\n    .dataframe thead th {\n        text-align: right;\n    }\n</style>\n<table border=\"1\" class=\"dataframe\">\n  <thead>\n    <tr style=\"text-align: right;\">\n      <th></th>\n      <th>hotel</th>\n      <th>is_canceled</th>\n      <th>lead_time</th>\n      <th>arrival_date_year</th>\n      <th>arrival_date_month</th>\n      <th>arrival_date_day_of_month</th>\n      <th>stays_in_weekend_nights</th>\n      <th>stays_in_week_nights</th>\n      <th>adults</th>\n      <th>children</th>\n      <th>...</th>\n      <th>reserved_room_type</th>\n      <th>assigned_room_type</th>\n      <th>booking_changes</th>\n      <th>deposit_type</th>\n      <th>days_in_waiting_list</th>\n      <th>customer_type</th>\n      <th>adr</th>\n      <th>required_car_parking_spaces</th>\n      <th>total_of_special_requests</th>\n      <th>reservation_status_date</th>\n    </tr>\n  </thead>\n  <tbody>\n    <tr>\n      <th>0</th>\n      <td>City Hotel</td>\n      <td>0</td>\n      <td>25</td>\n      <td>2017</td>\n      <td>February</td>\n      <td>22</td>\n      <td>0</td>\n      <td>4</td>\n      <td>3</td>\n      <td>0.0</td>\n      <td>...</td>\n      <td>E</td>\n      <td>E</td>\n      <td>0</td>\n      <td>No Deposit</td>\n      <td>0</td>\n      <td>Transient</td>\n      <td>124.10</td>\n      <td>0</td>\n      <td>1</td>\n      <td>2017-02-26</td>\n    </tr>\n    <tr>\n      <th>1</th>\n      <td>City Hotel</td>\n      <td>0</td>\n      <td>134</td>\n      <td>2016</td>\n      <td>August</td>\n      <td>1</td>\n      <td>1</td>\n      <td>4</td>\n      <td>2</td>\n      <td>2.0</td>\n      <td>...</td>\n      <td>F</td>\n      <td>F</td>\n      <td>0</td>\n      <td>No Deposit</td>\n      <td>0</td>\n      <td>Transient</td>\n      <td>176.45</td>\n      <td>0</td>\n      <td>1</td>\n      <td>2016-08-06</td>\n    </tr>\n    <tr>\n      <th>2</th>\n      <td>Resort Hotel</td>\n      <td>0</td>\n      <td>0</td>\n      <td>2015</td>\n      <td>November</td>\n      <td>24</td>\n      <td>0</td>\n      <td>1</td>\n      <td>1</td>\n      <td>0.0</td>\n      <td>...</td>\n      <td>A</td>\n      <td>A</td>\n      <td>0</td>\n      <td>No Deposit</td>\n      <td>0</td>\n      <td>Transient</td>\n      <td>26.00</td>\n      <td>1</td>\n      <td>0</td>\n      <td>2015-11-25</td>\n    </tr>\n    <tr>\n      <th>3</th>\n      <td>Resort Hotel</td>\n      <td>0</td>\n      <td>86</td>\n      <td>2015</td>\n      <td>October</td>\n      <td>18</td>\n      <td>2</td>\n      <td>5</td>\n      <td>2</td>\n      <td>0.0</td>\n      <td>...</td>\n      <td>D</td>\n      <td>D</td>\n      <td>0</td>\n      <td>No Deposit</td>\n      <td>0</td>\n      <td>Transient</td>\n      <td>50.03</td>\n      <td>0</td>\n      <td>0</td>\n      <td>2015-10-25</td>\n    </tr>\n    <tr>\n      <th>4</th>\n      <td>City Hotel</td>\n      <td>0</td>\n      <td>156</td>\n      <td>2016</td>\n      <td>July</td>\n      <td>11</td>\n      <td>2</td>\n      <td>5</td>\n      <td>2</td>\n      <td>1.0</td>\n      <td>...</td>\n      <td>A</td>\n      <td>D</td>\n      <td>1</td>\n      <td>No Deposit</td>\n      <td>0</td>\n      <td>Transient</td>\n      <td>94.91</td>\n      <td>0</td>\n      <td>1</td>\n      <td>2016-07-18</td>\n    </tr>\n    <tr>\n      <th>...</th>\n      <td>...</td>\n      <td>...</td>\n      <td>...</td>\n      <td>...</td>\n      <td>...</td>\n      <td>...</td>\n      <td>...</td>\n      <td>...</td>\n      <td>...</td>\n      <td>...</td>\n      <td>...</td>\n      <td>...</td>\n      <td>...</td>\n      <td>...</td>\n      <td>...</td>\n      <td>...</td>\n      <td>...</td>\n      <td>...</td>\n      <td>...</td>\n      <td>...</td>\n      <td>...</td>\n    </tr>\n    <tr>\n      <th>44643</th>\n      <td>City Hotel</td>\n      <td>1</td>\n      <td>265</td>\n      <td>2017</td>\n      <td>August</td>\n      <td>5</td>\n      <td>3</td>\n      <td>6</td>\n      <td>2</td>\n      <td>0.0</td>\n      <td>...</td>\n      <td>A</td>\n      <td>A</td>\n      <td>0</td>\n      <td>No Deposit</td>\n      <td>0</td>\n      <td>Transient</td>\n      <td>89.10</td>\n      <td>0</td>\n      <td>0</td>\n      <td>2016-11-13</td>\n    </tr>\n    <tr>\n      <th>44644</th>\n      <td>City Hotel</td>\n      <td>1</td>\n      <td>6</td>\n      <td>2016</td>\n      <td>August</td>\n      <td>8</td>\n      <td>1</td>\n      <td>0</td>\n      <td>1</td>\n      <td>0.0</td>\n      <td>...</td>\n      <td>A</td>\n      <td>A</td>\n      <td>0</td>\n      <td>No Deposit</td>\n      <td>0</td>\n      <td>Transient-Party</td>\n      <td>65.00</td>\n      <td>0</td>\n      <td>0</td>\n      <td>2016-08-08</td>\n    </tr>\n    <tr>\n      <th>44645</th>\n      <td>Resort Hotel</td>\n      <td>1</td>\n      <td>106</td>\n      <td>2016</td>\n      <td>April</td>\n      <td>23</td>\n      <td>2</td>\n      <td>2</td>\n      <td>2</td>\n      <td>0.0</td>\n      <td>...</td>\n      <td>A</td>\n      <td>A</td>\n      <td>0</td>\n      <td>No Deposit</td>\n      <td>0</td>\n      <td>Transient</td>\n      <td>52.20</td>\n      <td>0</td>\n      <td>0</td>\n      <td>2016-04-21</td>\n    </tr>\n    <tr>\n      <th>44646</th>\n      <td>City Hotel</td>\n      <td>1</td>\n      <td>151</td>\n      <td>2017</td>\n      <td>May</td>\n      <td>27</td>\n      <td>1</td>\n      <td>1</td>\n      <td>2</td>\n      <td>0.0</td>\n      <td>...</td>\n      <td>A</td>\n      <td>A</td>\n      <td>0</td>\n      <td>No Deposit</td>\n      <td>0</td>\n      <td>Transient</td>\n      <td>133.00</td>\n      <td>0</td>\n      <td>0</td>\n      <td>2016-12-27</td>\n    </tr>\n    <tr>\n      <th>44647</th>\n      <td>City Hotel</td>\n      <td>1</td>\n      <td>277</td>\n      <td>2016</td>\n      <td>November</td>\n      <td>7</td>\n      <td>1</td>\n      <td>2</td>\n      <td>2</td>\n      <td>0.0</td>\n      <td>...</td>\n      <td>A</td>\n      <td>A</td>\n      <td>0</td>\n      <td>Non Refund</td>\n      <td>0</td>\n      <td>Transient</td>\n      <td>100.00</td>\n      <td>0</td>\n      <td>0</td>\n      <td>2016-04-04</td>\n    </tr>\n  </tbody>\n</table>\n<p>44648 rows × 28 columns</p>\n</div>"
     },
     "execution_count": 6,
     "metadata": {},
     "output_type": "execute_result"
    }
   ]
  },
  {
   "cell_type": "code",
   "source": [
    "df_date= df['arrival_date_month'].str[0:3]\n",
    "month_number = np.zeros(len(df_date))"
   ],
   "metadata": {
    "id": "TpjCgbzSAznW"
   },
   "execution_count": null,
   "outputs": []
  },
  {
   "cell_type": "code",
   "source": [
    "df['arrival_data']=df['arrival_date_year'].map(str) + '-' + df['arrival_date_month'].map(str) + '-'  + df['arrival_date_day_of_month'].map(str)"
   ],
   "metadata": {
    "colab": {
     "base_uri": "https://localhost:8080/",
     "height": 158
    },
    "id": "Er2orq1GFc4q",
    "outputId": "cf73f2e4-1f5e-4ba8-d3f3-bd3936da0628",
    "ExecuteTime": {
     "end_time": "2024-03-26T14:17:07.026423Z",
     "start_time": "2024-03-26T14:17:07.006425Z"
    }
   },
   "execution_count": 9,
   "outputs": []
  },
  {
   "cell_type": "code",
   "outputs": [
    {
     "data": {
      "text/plain": "              hotel  is_canceled  lead_time  arrival_date_year  \\\n0        City Hotel            0         25               2017   \n1        City Hotel            0        134               2016   \n2      Resort Hotel            0          0               2015   \n3      Resort Hotel            0         86               2015   \n4        City Hotel            0        156               2016   \n...             ...          ...        ...                ...   \n44643    City Hotel            1        265               2017   \n44644    City Hotel            1          6               2016   \n44645  Resort Hotel            1        106               2016   \n44646    City Hotel            1        151               2017   \n44647    City Hotel            1        277               2016   \n\n      arrival_date_month  arrival_date_day_of_month  stays_in_weekend_nights  \\\n0               February                         22                        0   \n1                 August                          1                        1   \n2               November                         24                        0   \n3                October                         18                        2   \n4                   July                         11                        2   \n...                  ...                        ...                      ...   \n44643             August                          5                        3   \n44644             August                          8                        1   \n44645              April                         23                        2   \n44646                May                         27                        1   \n44647           November                          7                        1   \n\n       stays_in_week_nights  adults  children  ...  assigned_room_type  \\\n0                         4       3       0.0  ...                   E   \n1                         4       2       2.0  ...                   F   \n2                         1       1       0.0  ...                   A   \n3                         5       2       0.0  ...                   D   \n4                         5       2       1.0  ...                   D   \n...                     ...     ...       ...  ...                 ...   \n44643                     6       2       0.0  ...                   A   \n44644                     0       1       0.0  ...                   A   \n44645                     2       2       0.0  ...                   A   \n44646                     1       2       0.0  ...                   A   \n44647                     2       2       0.0  ...                   A   \n\n      booking_changes deposit_type days_in_waiting_list    customer_type  \\\n0                   0   No Deposit                    0        Transient   \n1                   0   No Deposit                    0        Transient   \n2                   0   No Deposit                    0        Transient   \n3                   0   No Deposit                    0        Transient   \n4                   1   No Deposit                    0        Transient   \n...               ...          ...                  ...              ...   \n44643               0   No Deposit                    0        Transient   \n44644               0   No Deposit                    0  Transient-Party   \n44645               0   No Deposit                    0        Transient   \n44646               0   No Deposit                    0        Transient   \n44647               0   Non Refund                    0        Transient   \n\n          adr  required_car_parking_spaces  total_of_special_requests  \\\n0      124.10                            0                          1   \n1      176.45                            0                          1   \n2       26.00                            1                          0   \n3       50.03                            0                          0   \n4       94.91                            0                          1   \n...       ...                          ...                        ...   \n44643   89.10                            0                          0   \n44644   65.00                            0                          0   \n44645   52.20                            0                          0   \n44646  133.00                            0                          0   \n44647  100.00                            0                          0   \n\n      reservation_status_date      arrival_data  \n0                  2017-02-26  2017-February-22  \n1                  2016-08-06     2016-August-1  \n2                  2015-11-25  2015-November-24  \n3                  2015-10-25   2015-October-18  \n4                  2016-07-18      2016-July-11  \n...                       ...               ...  \n44643              2016-11-13     2017-August-5  \n44644              2016-08-08     2016-August-8  \n44645              2016-04-21     2016-April-23  \n44646              2016-12-27       2017-May-27  \n44647              2016-04-04   2016-November-7  \n\n[44648 rows x 29 columns]",
      "text/html": "<div>\n<style scoped>\n    .dataframe tbody tr th:only-of-type {\n        vertical-align: middle;\n    }\n\n    .dataframe tbody tr th {\n        vertical-align: top;\n    }\n\n    .dataframe thead th {\n        text-align: right;\n    }\n</style>\n<table border=\"1\" class=\"dataframe\">\n  <thead>\n    <tr style=\"text-align: right;\">\n      <th></th>\n      <th>hotel</th>\n      <th>is_canceled</th>\n      <th>lead_time</th>\n      <th>arrival_date_year</th>\n      <th>arrival_date_month</th>\n      <th>arrival_date_day_of_month</th>\n      <th>stays_in_weekend_nights</th>\n      <th>stays_in_week_nights</th>\n      <th>adults</th>\n      <th>children</th>\n      <th>...</th>\n      <th>assigned_room_type</th>\n      <th>booking_changes</th>\n      <th>deposit_type</th>\n      <th>days_in_waiting_list</th>\n      <th>customer_type</th>\n      <th>adr</th>\n      <th>required_car_parking_spaces</th>\n      <th>total_of_special_requests</th>\n      <th>reservation_status_date</th>\n      <th>arrival_data</th>\n    </tr>\n  </thead>\n  <tbody>\n    <tr>\n      <th>0</th>\n      <td>City Hotel</td>\n      <td>0</td>\n      <td>25</td>\n      <td>2017</td>\n      <td>February</td>\n      <td>22</td>\n      <td>0</td>\n      <td>4</td>\n      <td>3</td>\n      <td>0.0</td>\n      <td>...</td>\n      <td>E</td>\n      <td>0</td>\n      <td>No Deposit</td>\n      <td>0</td>\n      <td>Transient</td>\n      <td>124.10</td>\n      <td>0</td>\n      <td>1</td>\n      <td>2017-02-26</td>\n      <td>2017-February-22</td>\n    </tr>\n    <tr>\n      <th>1</th>\n      <td>City Hotel</td>\n      <td>0</td>\n      <td>134</td>\n      <td>2016</td>\n      <td>August</td>\n      <td>1</td>\n      <td>1</td>\n      <td>4</td>\n      <td>2</td>\n      <td>2.0</td>\n      <td>...</td>\n      <td>F</td>\n      <td>0</td>\n      <td>No Deposit</td>\n      <td>0</td>\n      <td>Transient</td>\n      <td>176.45</td>\n      <td>0</td>\n      <td>1</td>\n      <td>2016-08-06</td>\n      <td>2016-August-1</td>\n    </tr>\n    <tr>\n      <th>2</th>\n      <td>Resort Hotel</td>\n      <td>0</td>\n      <td>0</td>\n      <td>2015</td>\n      <td>November</td>\n      <td>24</td>\n      <td>0</td>\n      <td>1</td>\n      <td>1</td>\n      <td>0.0</td>\n      <td>...</td>\n      <td>A</td>\n      <td>0</td>\n      <td>No Deposit</td>\n      <td>0</td>\n      <td>Transient</td>\n      <td>26.00</td>\n      <td>1</td>\n      <td>0</td>\n      <td>2015-11-25</td>\n      <td>2015-November-24</td>\n    </tr>\n    <tr>\n      <th>3</th>\n      <td>Resort Hotel</td>\n      <td>0</td>\n      <td>86</td>\n      <td>2015</td>\n      <td>October</td>\n      <td>18</td>\n      <td>2</td>\n      <td>5</td>\n      <td>2</td>\n      <td>0.0</td>\n      <td>...</td>\n      <td>D</td>\n      <td>0</td>\n      <td>No Deposit</td>\n      <td>0</td>\n      <td>Transient</td>\n      <td>50.03</td>\n      <td>0</td>\n      <td>0</td>\n      <td>2015-10-25</td>\n      <td>2015-October-18</td>\n    </tr>\n    <tr>\n      <th>4</th>\n      <td>City Hotel</td>\n      <td>0</td>\n      <td>156</td>\n      <td>2016</td>\n      <td>July</td>\n      <td>11</td>\n      <td>2</td>\n      <td>5</td>\n      <td>2</td>\n      <td>1.0</td>\n      <td>...</td>\n      <td>D</td>\n      <td>1</td>\n      <td>No Deposit</td>\n      <td>0</td>\n      <td>Transient</td>\n      <td>94.91</td>\n      <td>0</td>\n      <td>1</td>\n      <td>2016-07-18</td>\n      <td>2016-July-11</td>\n    </tr>\n    <tr>\n      <th>...</th>\n      <td>...</td>\n      <td>...</td>\n      <td>...</td>\n      <td>...</td>\n      <td>...</td>\n      <td>...</td>\n      <td>...</td>\n      <td>...</td>\n      <td>...</td>\n      <td>...</td>\n      <td>...</td>\n      <td>...</td>\n      <td>...</td>\n      <td>...</td>\n      <td>...</td>\n      <td>...</td>\n      <td>...</td>\n      <td>...</td>\n      <td>...</td>\n      <td>...</td>\n      <td>...</td>\n    </tr>\n    <tr>\n      <th>44643</th>\n      <td>City Hotel</td>\n      <td>1</td>\n      <td>265</td>\n      <td>2017</td>\n      <td>August</td>\n      <td>5</td>\n      <td>3</td>\n      <td>6</td>\n      <td>2</td>\n      <td>0.0</td>\n      <td>...</td>\n      <td>A</td>\n      <td>0</td>\n      <td>No Deposit</td>\n      <td>0</td>\n      <td>Transient</td>\n      <td>89.10</td>\n      <td>0</td>\n      <td>0</td>\n      <td>2016-11-13</td>\n      <td>2017-August-5</td>\n    </tr>\n    <tr>\n      <th>44644</th>\n      <td>City Hotel</td>\n      <td>1</td>\n      <td>6</td>\n      <td>2016</td>\n      <td>August</td>\n      <td>8</td>\n      <td>1</td>\n      <td>0</td>\n      <td>1</td>\n      <td>0.0</td>\n      <td>...</td>\n      <td>A</td>\n      <td>0</td>\n      <td>No Deposit</td>\n      <td>0</td>\n      <td>Transient-Party</td>\n      <td>65.00</td>\n      <td>0</td>\n      <td>0</td>\n      <td>2016-08-08</td>\n      <td>2016-August-8</td>\n    </tr>\n    <tr>\n      <th>44645</th>\n      <td>Resort Hotel</td>\n      <td>1</td>\n      <td>106</td>\n      <td>2016</td>\n      <td>April</td>\n      <td>23</td>\n      <td>2</td>\n      <td>2</td>\n      <td>2</td>\n      <td>0.0</td>\n      <td>...</td>\n      <td>A</td>\n      <td>0</td>\n      <td>No Deposit</td>\n      <td>0</td>\n      <td>Transient</td>\n      <td>52.20</td>\n      <td>0</td>\n      <td>0</td>\n      <td>2016-04-21</td>\n      <td>2016-April-23</td>\n    </tr>\n    <tr>\n      <th>44646</th>\n      <td>City Hotel</td>\n      <td>1</td>\n      <td>151</td>\n      <td>2017</td>\n      <td>May</td>\n      <td>27</td>\n      <td>1</td>\n      <td>1</td>\n      <td>2</td>\n      <td>0.0</td>\n      <td>...</td>\n      <td>A</td>\n      <td>0</td>\n      <td>No Deposit</td>\n      <td>0</td>\n      <td>Transient</td>\n      <td>133.00</td>\n      <td>0</td>\n      <td>0</td>\n      <td>2016-12-27</td>\n      <td>2017-May-27</td>\n    </tr>\n    <tr>\n      <th>44647</th>\n      <td>City Hotel</td>\n      <td>1</td>\n      <td>277</td>\n      <td>2016</td>\n      <td>November</td>\n      <td>7</td>\n      <td>1</td>\n      <td>2</td>\n      <td>2</td>\n      <td>0.0</td>\n      <td>...</td>\n      <td>A</td>\n      <td>0</td>\n      <td>Non Refund</td>\n      <td>0</td>\n      <td>Transient</td>\n      <td>100.00</td>\n      <td>0</td>\n      <td>0</td>\n      <td>2016-04-04</td>\n      <td>2016-November-7</td>\n    </tr>\n  </tbody>\n</table>\n<p>44648 rows × 29 columns</p>\n</div>"
     },
     "execution_count": 10,
     "metadata": {},
     "output_type": "execute_result"
    }
   ],
   "source": [
    "df"
   ],
   "metadata": {
    "collapsed": false,
    "ExecuteTime": {
     "end_time": "2024-03-26T14:17:07.898026Z",
     "start_time": "2024-03-26T14:17:07.878882Z"
    }
   },
   "execution_count": 10
  }
 ]
}
