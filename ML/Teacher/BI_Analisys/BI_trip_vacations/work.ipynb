{
 "cells": [
  {
   "cell_type": "code",
   "execution_count": 1,
   "id": "initial_id",
   "metadata": {
    "collapsed": true,
    "ExecuteTime": {
     "end_time": "2024-03-26T09:27:05.187293Z",
     "start_time": "2024-03-26T09:27:04.640760Z"
    }
   },
   "outputs": [
    {
     "data": {
      "text/plain": "                                      Название вакансии  \\\n0                Администратор проектов по планированию   \n1                   Data scientist / скоринговые модели   \n2     Middle/Senior Machine Learning Engineer in Uzu...   \n3                               Аналитик (Data science)   \n4                                           Аналитик BI   \n...                                                 ...   \n1402                 Специалист отдела обработки данных   \n1403                                        BI Аналитик   \n1404                                        BI аналитик   \n1405                     Аналитик данных (Data analyst)   \n1406                               BI Аналитик Junior +   \n\n                    Дата публикации  \\\n0     2024-03-01 00:00:00 +0700 +07   \n1     2024-02-19 00:00:00 +0700 +07   \n2     2024-03-01 00:00:00 +0700 +07   \n3     2024-01-24 00:00:00 +0700 +07   \n4     2024-02-06 00:00:00 +0700 +07   \n...                             ...   \n1402  2024-03-12 00:00:00 +0700 +07   \n1403  2024-03-12 00:00:00 +0700 +07   \n1404  2024-03-12 00:00:00 +0700 +07   \n1405  2024-03-12 00:00:00 +0700 +07   \n1406  2024-03-12 00:00:00 +0700 +07   \n\n                                      Описание вакансии  \\\n0     Обязанности:  Ведение административной поддерж...   \n1     CyberBird – это группа высокотехнологичных фин...   \n2     Uzum — это новая уникальная компания в Узбекис...   \n3     Обязанности: ​​​- анализ статистической информ...   \n4     «Гипербола» - продуктовый гипермаркет, выполне...   \n...                                                 ...   \n1402  Обязанности:   Внесение, стандартизация, обнов...   \n1403  World Vision – это цифровая глазная клиника но...   \n1404  Международная фармацевтическая компания произв...   \n1405  Привет, наш будущий коллега! Ситимобил и Таксо...   \n1406  Обязанности:  Взаимодействие с бизнес-заказчик...   \n\n                                     Работодатель  \\\n0     Специальный Технологический Центр (ООО СТЦ)   \n1                                        Кибертех   \n2                            «UZUM TECHNOLOGIES».   \n3                    Распадская Угольная Компания   \n4                           Гипербола Гипермаркет   \n...                                           ...   \n1402                   Херинкс Трейд Солюшенс Рус   \n1403                                 World Vision   \n1404                                     Manpower   \n1405                      Ситимобил & Таксовичкоф   \n1406                                 Antal Talent   \n\n                                        Ключевые навыки      Название региона  \\\n0     Microsoft Excel;Управление базами данных;Управ...       Санкт-Петербург   \n1                                                   NaN                Москва   \n2                                                   NaN                Москва   \n3             Microsoft Power BI;Аналитическое мышление                Москва   \n4                                                   NaN  Свердловская область   \n...                                                 ...                   ...   \n1402                                                NaN       Санкт-Петербург   \n1403  Microsoft Power BI;SQL;Разработка BI;Управлени...                Москва   \n1404  Microsoft SQL Server;Microsoft Power BI;Аналит...                Москва   \n1405  Microsoft Power BI;Python;SQL;Анализ данных;Ст...       Санкт-Петербург   \n1406                             Microsoft Power BI;SQL                Москва   \n\n         График работы Опыт работы  Заработная плата  \n0          Полный день         1-3                 0  \n1     Удаленная работа         3-6                 0  \n2          Полный день         3-6                 0  \n3          Полный день         3-6                 0  \n4          Полный день         1-3                 0  \n...                ...         ...               ...  \n1402       Полный день           0                 0  \n1403       Полный день         1-3            150000  \n1404       Полный день         3-6            200000  \n1405  Удаленная работа         1-3            150000  \n1406       Полный день         1-3                 0  \n\n[1407 rows x 9 columns]",
      "text/html": "<div>\n<style scoped>\n    .dataframe tbody tr th:only-of-type {\n        vertical-align: middle;\n    }\n\n    .dataframe tbody tr th {\n        vertical-align: top;\n    }\n\n    .dataframe thead th {\n        text-align: right;\n    }\n</style>\n<table border=\"1\" class=\"dataframe\">\n  <thead>\n    <tr style=\"text-align: right;\">\n      <th></th>\n      <th>Название вакансии</th>\n      <th>Дата публикации</th>\n      <th>Описание вакансии</th>\n      <th>Работодатель</th>\n      <th>Ключевые навыки</th>\n      <th>Название региона</th>\n      <th>График работы</th>\n      <th>Опыт работы</th>\n      <th>Заработная плата</th>\n    </tr>\n  </thead>\n  <tbody>\n    <tr>\n      <th>0</th>\n      <td>Администратор проектов по планированию</td>\n      <td>2024-03-01 00:00:00 +0700 +07</td>\n      <td>Обязанности:  Ведение административной поддерж...</td>\n      <td>Специальный Технологический Центр (ООО СТЦ)</td>\n      <td>Microsoft Excel;Управление базами данных;Управ...</td>\n      <td>Санкт-Петербург</td>\n      <td>Полный день</td>\n      <td>1-3</td>\n      <td>0</td>\n    </tr>\n    <tr>\n      <th>1</th>\n      <td>Data scientist / скоринговые модели</td>\n      <td>2024-02-19 00:00:00 +0700 +07</td>\n      <td>CyberBird – это группа высокотехнологичных фин...</td>\n      <td>Кибертех</td>\n      <td>NaN</td>\n      <td>Москва</td>\n      <td>Удаленная работа</td>\n      <td>3-6</td>\n      <td>0</td>\n    </tr>\n    <tr>\n      <th>2</th>\n      <td>Middle/Senior Machine Learning Engineer in Uzu...</td>\n      <td>2024-03-01 00:00:00 +0700 +07</td>\n      <td>Uzum — это новая уникальная компания в Узбекис...</td>\n      <td>«UZUM TECHNOLOGIES».</td>\n      <td>NaN</td>\n      <td>Москва</td>\n      <td>Полный день</td>\n      <td>3-6</td>\n      <td>0</td>\n    </tr>\n    <tr>\n      <th>3</th>\n      <td>Аналитик (Data science)</td>\n      <td>2024-01-24 00:00:00 +0700 +07</td>\n      <td>Обязанности: ​​​- анализ статистической информ...</td>\n      <td>Распадская Угольная Компания</td>\n      <td>Microsoft Power BI;Аналитическое мышление</td>\n      <td>Москва</td>\n      <td>Полный день</td>\n      <td>3-6</td>\n      <td>0</td>\n    </tr>\n    <tr>\n      <th>4</th>\n      <td>Аналитик BI</td>\n      <td>2024-02-06 00:00:00 +0700 +07</td>\n      <td>«Гипербола» - продуктовый гипермаркет, выполне...</td>\n      <td>Гипербола Гипермаркет</td>\n      <td>NaN</td>\n      <td>Свердловская область</td>\n      <td>Полный день</td>\n      <td>1-3</td>\n      <td>0</td>\n    </tr>\n    <tr>\n      <th>...</th>\n      <td>...</td>\n      <td>...</td>\n      <td>...</td>\n      <td>...</td>\n      <td>...</td>\n      <td>...</td>\n      <td>...</td>\n      <td>...</td>\n      <td>...</td>\n    </tr>\n    <tr>\n      <th>1402</th>\n      <td>Специалист отдела обработки данных</td>\n      <td>2024-03-12 00:00:00 +0700 +07</td>\n      <td>Обязанности:   Внесение, стандартизация, обнов...</td>\n      <td>Херинкс Трейд Солюшенс Рус</td>\n      <td>NaN</td>\n      <td>Санкт-Петербург</td>\n      <td>Полный день</td>\n      <td>0</td>\n      <td>0</td>\n    </tr>\n    <tr>\n      <th>1403</th>\n      <td>BI Аналитик</td>\n      <td>2024-03-12 00:00:00 +0700 +07</td>\n      <td>World Vision – это цифровая глазная клиника но...</td>\n      <td>World Vision</td>\n      <td>Microsoft Power BI;SQL;Разработка BI;Управлени...</td>\n      <td>Москва</td>\n      <td>Полный день</td>\n      <td>1-3</td>\n      <td>150000</td>\n    </tr>\n    <tr>\n      <th>1404</th>\n      <td>BI аналитик</td>\n      <td>2024-03-12 00:00:00 +0700 +07</td>\n      <td>Международная фармацевтическая компания произв...</td>\n      <td>Manpower</td>\n      <td>Microsoft SQL Server;Microsoft Power BI;Аналит...</td>\n      <td>Москва</td>\n      <td>Полный день</td>\n      <td>3-6</td>\n      <td>200000</td>\n    </tr>\n    <tr>\n      <th>1405</th>\n      <td>Аналитик данных (Data analyst)</td>\n      <td>2024-03-12 00:00:00 +0700 +07</td>\n      <td>Привет, наш будущий коллега! Ситимобил и Таксо...</td>\n      <td>Ситимобил &amp; Таксовичкоф</td>\n      <td>Microsoft Power BI;Python;SQL;Анализ данных;Ст...</td>\n      <td>Санкт-Петербург</td>\n      <td>Удаленная работа</td>\n      <td>1-3</td>\n      <td>150000</td>\n    </tr>\n    <tr>\n      <th>1406</th>\n      <td>BI Аналитик Junior +</td>\n      <td>2024-03-12 00:00:00 +0700 +07</td>\n      <td>Обязанности:  Взаимодействие с бизнес-заказчик...</td>\n      <td>Antal Talent</td>\n      <td>Microsoft Power BI;SQL</td>\n      <td>Москва</td>\n      <td>Полный день</td>\n      <td>1-3</td>\n      <td>0</td>\n    </tr>\n  </tbody>\n</table>\n<p>1407 rows × 9 columns</p>\n</div>"
     },
     "execution_count": 1,
     "metadata": {},
     "output_type": "execute_result"
    }
   ],
   "source": [
    "import pandas as pd\n",
    "pd.read_csv('./data/BI_RusNavik.csv')"
   ]
  }
 ],
 "metadata": {
  "kernelspec": {
   "display_name": "Python 3",
   "language": "python",
   "name": "python3"
  },
  "language_info": {
   "codemirror_mode": {
    "name": "ipython",
    "version": 2
   },
   "file_extension": ".py",
   "mimetype": "text/x-python",
   "name": "python",
   "nbconvert_exporter": "python",
   "pygments_lexer": "ipython2",
   "version": "2.7.6"
  }
 },
 "nbformat": 4,
 "nbformat_minor": 5
}
