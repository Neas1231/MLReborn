{
 "cells": [
  {
   "cell_type": "markdown",
   "id": "f0be73a6-ea17-4ac4-ac43-0be5ea999ae0",
   "metadata": {},
   "source": [
    "# Кластеризация"
   ]
  },
  {
   "cell_type": "markdown",
   "id": "7b6f2834-745e-4b74-a696-6e15407c50d7",
   "metadata": {},
   "source": [
    "<img src='https://kokoc.com/upload/blog/73/image9.jpg' width=800>"
   ]
  },
  {
   "cell_type": "markdown",
   "id": "ebbe913d-7b14-4955-aa1f-820bbd2ce600",
   "metadata": {},
   "source": [
    "В задаче классификации мы пытались из различных параметров X с помощью моделей машинного обучения получить метку класса Y, предполагая, что мы с самого начала примерно понимали, какого рода объекты должны относиться к каждому из классов, и мы располагали обучающей выборкой с примерами объектов и классов, к которым они относятся"
   ]
  },
  {
   "cell_type": "code",
   "execution_count": null,
   "id": "9c9f0229-c0ad-41df-814c-b7e557e338ff",
   "metadata": {},
   "outputs": [],
   "source": []
  }
 ],
 "metadata": {
  "kernelspec": {
   "display_name": "Python 3 (ipykernel)",
   "language": "python",
   "name": "python3"
  },
  "language_info": {
   "codemirror_mode": {
    "name": "ipython",
    "version": 3
   },
   "file_extension": ".py",
   "mimetype": "text/x-python",
   "name": "python",
   "nbconvert_exporter": "python",
   "pygments_lexer": "ipython3",
   "version": "3.11.7"
  }
 },
 "nbformat": 4,
 "nbformat_minor": 5
}
