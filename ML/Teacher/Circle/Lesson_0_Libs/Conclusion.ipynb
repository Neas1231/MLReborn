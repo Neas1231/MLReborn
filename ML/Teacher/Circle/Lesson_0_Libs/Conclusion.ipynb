{
 "cells": [
  {
   "cell_type": "markdown",
   "id": "24039998-f971-47b4-a9de-5a1beb5db07b",
   "metadata": {},
   "source": [
    "![](https://i.postimg.cc/Bbkpn1ts/pdnpplt.png)"
   ]
  },
  {
   "cell_type": "markdown",
   "id": "3e4baa28-180f-497e-bf52-a34ea411efff",
   "metadata": {},
   "source": [
    "Моя шпаргалка по pandas"
   ]
  },
  {
   "cell_type": "markdown",
   "id": "6262fbe3-5f1b-4ba9-a1d3-1882b808c498",
   "metadata": {},
   "source": [
    "https://habr.com/ru/companies/ruvds/articles/494720/"
   ]
  },
  {
   "cell_type": "markdown",
   "id": "aedf1af4-bbef-49d7-a031-e30d40afea99",
   "metadata": {},
   "source": [
    "Сюжет с пандами: визуализация данных на Python для начинающих"
   ]
  },
  {
   "cell_type": "markdown",
   "id": "742212fe-4639-4151-a528-4d0ff3c08330",
   "metadata": {},
   "source": [
    "https://proglib.io/p/syuzhet-s-pandami-vizualizaciya-dannyh-na-python-dlya-nachinayushchih-2020-10-31"
   ]
  }
 ],
 "metadata": {
  "kernelspec": {
   "display_name": "Python 3 (ipykernel)",
   "language": "python",
   "name": "python3"
  },
  "language_info": {
   "codemirror_mode": {
    "name": "ipython",
    "version": 3
   },
   "file_extension": ".py",
   "mimetype": "text/x-python",
   "name": "python",
   "nbconvert_exporter": "python",
   "pygments_lexer": "ipython3",
   "version": "3.11.7"
  }
 },
 "nbformat": 4,
 "nbformat_minor": 5
}
