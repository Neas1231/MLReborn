{
 "cells": [
  {
   "cell_type": "markdown",
   "id": "375e165e-aec8-422c-b886-97ac76dee424",
   "metadata": {},
   "source": [
    "<div>\n",
    "<img src=\"https://repository-images.githubusercontent.com/321181292/f6ecab80-8749-11eb-9e0b-0bb1fa038038\" style=\"width: 700px;\"/>\n",
    "</div>"
   ]
  },
  {
   "cell_type": "markdown",
   "id": "96f04935-01b6-4d61-b9b4-56a85e3732cf",
   "metadata": {},
   "source": [
    "Git — так называемая система контроля версий, набор консольных утилит, которые отслеживают и фиксируют изменения в файлах (чаще всего речь идет об исходном коде программ, но вы можете использовать его для любых файлов на ваш вкус по крайней мере до 100МБ в десктоп версии и до 25МБ в браузерной)."
   ]
  },
  {
   "cell_type": "markdown",
   "id": "6cae9177-9434-47a3-87be-1a7c5d0576b2",
   "metadata": {},
   "source": [
    "С его помощью вы можете __сравнивать, анализировать, редактировать, сливать изменения__ и __возвращаться назад к последнему сохранению__. Этот процесс называется контролем версий."
   ]
  },
  {
   "cell_type": "markdown",
   "id": "67407ad7-9ab6-45d3-a859-74abcb5f0425",
   "metadata": {},
   "source": [
    "### Установка"
   ]
  },
  {
   "cell_type": "markdown",
   "id": "0c96e925-00ca-4973-b155-31d4fd5a7133",
   "metadata": {},
   "source": [
    "<a href=\"https://git-scm.com/\" style=\"font-size:30px;\"> Git </a>\n",
    "\n",
    "<a href=\"https://git-scm.com/downloads/guis?os=windows\" style=\"font-size:30px;\"> Git GUI clients </a>"
   ]
  },
  {
   "cell_type": "markdown",
   "id": "4bfef203-8042-4405-bb05-0ae7d302a31c",
   "metadata": {},
   "source": [
    "### Настройка"
   ]
  },
  {
   "cell_type": "markdown",
   "id": "6c221584-b6d6-42ff-a139-1c4286652b50",
   "metadata": {},
   "source": [
    "Для начала настроим в только только запущенном Git Bash свою __идентификацию__:"
   ]
  },
  {
   "cell_type": "markdown",
   "id": "1eae9c38-d7d2-4b35-9529-605e1042945b",
   "metadata": {},
   "source": [
    "> git config --global user.name \"My Name\"  \n",
    "> git config --global user.email myEmail@example.com"
   ]
  },
  {
   "cell_type": "markdown",
   "id": "e668d27b-0e7e-45b6-9d29-dff72a4cc806",
   "metadata": {},
   "source": [
    "Git хранит весь пакет конфигураций в файле .gitconfig, находящемся в вашем локальном каталоге. Чтобы сделать эти настройки глобальными, то есть применимыми ко всем проектам, необходимо добавить флаг –global. Если вы этого не сделаете, они будут распространяться только на текущий репозиторий.\n",
    "Для того, чтобы посмотреть все настройки системы, используйте команду:"
   ]
  },
  {
   "cell_type": "markdown",
   "id": "c27af2b6-2ae9-4b50-b618-3ee23b0bed19",
   "metadata": {},
   "source": [
    "> git config --list"
   ]
  },
  {
   "cell_type": "markdown",
   "id": "127cfb6c-ff65-457f-bbae-97c1286d91cc",
   "metadata": {},
   "source": [
    "Для удобства и легкости зрительного восприятия, некоторые группы команд в Гит можно выделить цветом, для этого нужно прописать в консоли:"
   ]
  },
  {
   "cell_type": "markdown",
   "id": "e4678de6-40ef-413a-8b17-993d0502f9f2",
   "metadata": {},
   "source": [
    "> git config --global color.ui true  \n",
    "> git config --global color.status auto  \n",
    "> git config --global color.branch auto"
   ]
  },
  {
   "cell_type": "markdown",
   "id": "7319774e-26b7-4232-939e-60e91d344cf8",
   "metadata": {},
   "source": [
    "### Help"
   ]
  },
  {
   "cell_type": "markdown",
   "id": "5881f3cb-60f2-4e1c-a811-b70db8999d12",
   "metadata": {},
   "source": [
    "Для просмотра общей документации по git и подсказке про часто используемые команды можно воспользоваться следующей командой"
   ]
  },
  {
   "cell_type": "markdown",
   "id": "6b5c5cdf-2221-4e41-84cd-4592167b73e4",
   "metadata": {},
   "source": [
    "> git --help"
   ]
  },
  {
   "cell_type": "markdown",
   "id": "273dd065-9c88-4d1a-9c58-8d5d3990ce80",
   "metadata": {},
   "source": [
    "### Создание репозитория и первых файлов"
   ]
  },
  {
   "cell_type": "markdown",
   "id": "bc6a8f02-1229-4fa1-8bd2-40cb008df3a6",
   "metadata": {},
   "source": [
    "git хранит свои файлы и историю прямо в папке проекта. Чтобы создать новый репозиторий, нам нужно открыть терминал, зайти в папку нашего проекта и выполнить команду init. Это включит приложение в этой конкретной папке и создаст скрытую директорию .git, где будет храниться история репозитория и настройки."
   ]
  },
  {
   "cell_type": "markdown",
   "id": "57b111ca-2341-4e8a-8e1d-afee82e38888",
   "metadata": {},
   "source": [
    "> mkdir Desktop/git_exercise/  \n",
    "> cd Desktop/git_exercise/  \n",
    "> git init"
   ]
  },
  {
   "cell_type": "markdown",
   "id": "bceb71a0-f9c0-4464-898f-6db597e96e03",
   "metadata": {},
   "source": [
    "Создадим файл который в дальнейшем сохраним в репозитории"
   ]
  },
  {
   "cell_type": "markdown",
   "id": "117ec265-c273-40b7-a336-17144c66f424",
   "metadata": {},
   "source": [
    "> cat > hello.txt"
   ]
  },
  {
   "cell_type": "markdown",
   "id": "15637427-f56c-4966-9cfc-b0b33fadafb0",
   "metadata": {},
   "source": [
    "status — это еще одна важнейшая команда, которая показывает информацию о текущем состоянии репозитория: актуальна ли информация на нём, нет ли чего-то нового, что поменялось, и так далее."
   ]
  },
  {
   "cell_type": "markdown",
   "id": "52531267-923d-41ac-ac81-133a1f3cde60",
   "metadata": {},
   "source": [
    "> git status"
   ]
  },
  {
   "cell_type": "markdown",
   "id": "a817eefa-a25d-4aa3-b71d-b25eb982ec24",
   "metadata": {},
   "source": [
    "Сейчас наш созданный файл находится в состоянии untracked(неотслеживаемый). Для того чтобы его отслеживать пропишем следующую команду:"
   ]
  },
  {
   "cell_type": "markdown",
   "id": "6708439b-908d-4be3-ab1f-d40da0c07600",
   "metadata": {},
   "source": [
    "> git add hello.txt  \n",
    "> \n",
    "или\n",
    "> git add ."
   ]
  },
  {
   "cell_type": "markdown",
   "id": "2bbeacbe-0fd1-4bfc-92e7-ab02ca1e973f",
   "metadata": {},
   "source": [
    "Конечно добавлять всё сразу удобнее, чем прописывать каждую позицию отдельно. Однако, тут надо быть внимательным, чтобы не добавить по ошибке ненужные элементы. Если же такое произошло изъять оттуда ошибочный файл можно при помощи команды"
   ]
  },
  {
   "cell_type": "markdown",
   "id": "bfe17b93-1e95-4cc6-844f-97c8709a4a14",
   "metadata": {},
   "source": [
    "> git reset hello.txt  \n",
    "> git rm --cached hello.txt"
   ]
  },
  {
   "cell_type": "markdown",
   "id": "814a388c-b6a8-48b3-8504-cf271f959d18",
   "metadata": {},
   "source": [
    "### Фиксация изменений"
   ]
  },
  {
   "cell_type": "markdown",
   "id": "b3aa0996-92aa-4dbd-8cae-11964c01ebe4",
   "metadata": {},
   "source": [
    "После добавления файлов и их изменений для сохранения этих изменений, их необходимо закоммитить(от commit)"
   ]
  },
  {
   "cell_type": "markdown",
   "id": "b9f28c1b-23a7-496e-9903-8113cae67750",
   "metadata": {},
   "source": [
    "> git commit -m 'Add some code'"
   ]
  },
  {
   "cell_type": "markdown",
   "id": "72908f11-bbf2-4758-97cb-88e4c838c6a1",
   "metadata": {},
   "source": [
    "Для просмотра все выполненных фиксаций можно воспользоваться историей коммитов."
   ]
  },
  {
   "cell_type": "markdown",
   "id": "8e1733b7-de06-4a27-8984-c29621689e23",
   "metadata": {},
   "source": [
    "> git log"
   ]
  },
  {
   "cell_type": "markdown",
   "id": "a433e17c-3649-4a18-b16e-057eb6ccdd27",
   "metadata": {},
   "source": [
    "а для просмотра отдельного коммита можно воспользоваться командой:"
   ]
  },
  {
   "cell_type": "markdown",
   "id": "7b9eefc4-6e5a-4306-9afe-115dc58e62a7",
   "metadata": {},
   "source": [
    "> git show hash_commit"
   ]
  },
  {
   "cell_type": "markdown",
   "id": "a5513783-37a9-4b3f-b0d7-99a3431b40c8",
   "metadata": {},
   "source": [
    "Ну а если вдруг нам нужно переделать commit message и внести туда новый комментарий, можно написать следующую конструкцию:"
   ]
  },
  {
   "cell_type": "markdown",
   "id": "d7231f7f-f416-43d9-9028-79e202aed734",
   "metadata": {},
   "source": [
    "> git commit --amend -m 'Новый комментарий'"
   ]
  },
  {
   "cell_type": "markdown",
   "id": "dcbe264c-89c0-4981-86e2-c637060c925b",
   "metadata": {},
   "source": [
    "В данном случае сообщение последнего коммита перезапишется. Но злоупотреблять этим не стоит, поскольку эта операция опасная и лучше ее делать до отправки коммита на сервер."
   ]
  },
  {
   "cell_type": "markdown",
   "id": "7736458d-510d-4570-8163-6ba463bd27f6",
   "metadata": {},
   "source": [
    "### Удаленные репозитории"
   ]
  },
  {
   "cell_type": "markdown",
   "id": "bf2e7e80-fe3e-4778-bc31-e268ba7bf8ae",
   "metadata": {},
   "source": [
    "Сейчас наш коммит является локальным — существует только в директории .git на нашей файловой системе. Несмотря на то, что сам по себе локальный репозиторий полезен, в большинстве случаев мы хотим поделиться нашей работой или доставить код на сервер, где он будет выполняться."
   ]
  },
  {
   "cell_type": "markdown",
   "id": "5fe01114-d4a9-4a24-a87e-7bd03643ec0a",
   "metadata": {},
   "source": [
    "Репозиторий, хранящийся в облаке, на стороннем сервисе, специально созданном для работы с git имеет ряд преимуществ. Во-первых - это своего рода резервная копия вашего проекта, предоставляющая возможность безболезненной работы в команде. А еще в таком репозитории можно пользоваться дополнительными возможностями хостинга. К примеру -визуализацией истории или возможностью разрабатывать вашу программу непосредственно в веб-интерфейсе."
   ]
  },
  {
   "cell_type": "markdown",
   "id": "9a80bb7f-9e77-46c2-bb7d-d5b61ab416d7",
   "metadata": {},
   "source": [
    "Для начала зарегистрируемся в GitHub или другом любом сервисе "
   ]
  },
  {
   "cell_type": "markdown",
   "id": "82f7fea3-cb5f-49ef-9a5a-eddfe06f22c9",
   "metadata": {},
   "source": [
    "<a href=\"https://github.com/signup\" style=\"font-size:30px;\"> GitHub Sign In </a>"
   ]
  },
  {
   "cell_type": "markdown",
   "id": "2397fd66-4d27-496d-a76a-4aa958efded6",
   "metadata": {},
   "source": [
    "Создадим репозиторий и скопируем его в наш Git"
   ]
  },
  {
   "cell_type": "markdown",
   "id": "b11b39e2-2e7d-44d0-95a8-bcd280a222d1",
   "metadata": {},
   "source": [
    "> git clone https://github.com/tutorialzine/awesome-project\n",
    ">\n",
    "либо\n",
    "> git clone https://github.com/tutorialzine/awesome-project new-folder"
   ]
  },
  {
   "cell_type": "markdown",
   "id": "67f3f754-1f85-42a8-a408-1f8503b09441",
   "metadata": {},
   "source": [
    "## Подключение к удаленному репозиторию"
   ]
  },
  {
   "cell_type": "markdown",
   "id": "4c84e8c8-1229-4a60-8088-9cef5add784e",
   "metadata": {},
   "source": [
    "Чтобы загрузить что-нибудь в удаленный репозиторий, сначала нужно к нему подключиться. Регистрация и установка может занять время, но все подобные сервисы предоставляют хорошую документацию.\n",
    "Чтобы связать наш локальный репозиторий с репозиторием на GitHub, выполним следующую команду в терминале."
   ]
  },
  {
   "cell_type": "markdown",
   "id": "754fc367-e2f9-48cb-8cfe-8a94ba798737",
   "metadata": {},
   "source": [
    "> git remote add origin https://github.com/tutorialzine/awesome-project.git"
   ]
  },
  {
   "cell_type": "markdown",
   "id": "f81eac8f-ad19-4b27-957e-2abb633f867a",
   "metadata": {},
   "source": [
    "### Отправка изменений на сервер"
   ]
  },
  {
   "cell_type": "markdown",
   "id": "3e8dfde4-5ef4-498d-a368-24c342a45381",
   "metadata": {},
   "source": [
    "> git push origin master"
   ]
  },
  {
   "cell_type": "markdown",
   "id": "de22c6c4-b8f8-4766-9750-9d84b848b5fb",
   "metadata": {},
   "source": [
    "### Ветвление"
   ]
  },
  {
   "cell_type": "markdown",
   "id": "a6acff83-cc2a-400a-b85a-0dabef8364fa",
   "metadata": {},
   "source": [
    "Во время разработки новой функциональности считается хорошей практикой работать с копией оригинального проекта, которую называют веткой. Ветви имеют свою собственную историю и изолированные друг от друга изменения до тех пор, пока вы не решаете слить изменения вместе."
   ]
  },
  {
   "cell_type": "markdown",
   "id": "03b512d8-64e0-40b1-9b92-52d2872a9c57",
   "metadata": {},
   "source": [
    "Так же например при создании репозитория README файла при инициализации репозитория на GitHub создаётся ветка main"
   ]
  },
  {
   "cell_type": "markdown",
   "id": "43c90fa0-956c-45c7-9427-c22bd7749ff7",
   "metadata": {},
   "source": [
    "> git branch amazing_new_feature"
   ]
  },
  {
   "cell_type": "markdown",
   "id": "44f98483-7c01-4c33-b028-47d94708d611",
   "metadata": {},
   "source": [
    "### Создание новой ветки\n",
    "Основная ветка в каждом репозитории называется master или main. Чтобы создать еще одну ветку, используем команду branch <name>"
   ]
  },
  {
   "cell_type": "markdown",
   "id": "e34e474e-548b-4f0f-9ad1-214f9de33d51",
   "metadata": {},
   "source": [
    "> git branch new_feature\n",
    ">\n",
    "Это создаст новую ветку, пока что точную копию ветки master.\n",
    "\n",
    "### Переключение между ветками\n",
    "Сейчас, если мы запустим branch, мы увидим две доступные опции\n",
    "\n",
    "> git branch\n",
    ">\n",
    "\n",
    "Мы хотим работать с нашей “новой фичей”, так что нам понадобится переключиться на другую ветку. Для этого воспользуемся командой checkout, она принимает один параметр — имя ветки, на которую необходимо переключиться.\n",
    "\n",
    "> git checkout new_feature\n",
    ">\n",
    "В Git ветка — это отдельная линия разработки. Git checkout позволяет нам переключаться как между удаленными, так и меду локальными ветками. Это один из способов получить доступ к работе коллеги или соавтора, обеспечивающий более высокую продуктивность совместной работы. Однако тут надо помнить, что пока вы не закомитили изменения, вы не сможете переключиться на другую ветку. В такой ситуации нужно либо сделать коммит, либо отложить его, при помощи команды git stash, добавляющей текущие незакоммиченные изменения в стек изменений и сбрасывающей рабочую копию до HEAD'а репозитория.\n",
    "\n",
    "### Слияние веток\n",
    "Наша “новая фича” будет еще одним текстовым файлом под названием feature.txt. Мы создадим его, добавим и закоммитим:\n",
    "\n",
    "> git add feature.txt\n",
    "> git commit -m \"New feature complete.”\n",
    ">\n",
    "Изменения завершены, теперь мы можем переключиться обратно на ветку master.\n",
    "\n",
    "> git checkout master\n",
    ">\n",
    "Теперь, если мы откроем наш проект в файловом менеджере, мы не увидим файла feature.txt, потому что мы переключились обратно на ветку master, в которой такого файла не существует. Чтобы он появился, нужно воспользоваться merge для объединения веток (применения изменений из ветки amazing_new_feature к основной версии проекта).\n",
    "\n",
    "> git merge new_feature\n",
    ">\n",
    "Теперь ветка master актуальна. Ветка new_feature больше не нужна, и ее можно удалить.\n",
    "\n",
    "> git branch -d new_feature\n",
    ">\n",
    "Однако тут есть нюанс: удалить текущую ветку, в которую вы, в данный момент просматриваете - нельзя. Если же вы все-таки попытаетесь это сделать, система отругает вас и выдаст ошибку с таким содержанием:\n",
    "\n",
    "Error: Cannot delete branch local_branch_name checked out at название_директории\n",
    "Так что при удалении ветвей, обязательно переключитесь на другой branch.\n",
    "\n",
    "\n",
    "Если хотите создать копию удаленного репозитория - используйте git clone. Однако если вам нужна только определенная его ветка, а не все хранилище - после git clone выполните следующую команду в соответствующем репозитории:\n",
    "\n",
    "git checkout -b <имя ветки> origin/<имя ветки>\n",
    "После этого, новая ветка создается на машине автоматически.\n",
    "\n",
    "\n",
    "\n"
   ]
  }
 ],
 "metadata": {
  "kernelspec": {
   "display_name": "Python 3 (ipykernel)",
   "language": "python",
   "name": "python3"
  },
  "language_info": {
   "codemirror_mode": {
    "name": "ipython",
    "version": 3
   },
   "file_extension": ".py",
   "mimetype": "text/x-python",
   "name": "python",
   "nbconvert_exporter": "python",
   "pygments_lexer": "ipython3",
   "version": "3.11.7"
  }
 },
 "nbformat": 4,
 "nbformat_minor": 5
}
