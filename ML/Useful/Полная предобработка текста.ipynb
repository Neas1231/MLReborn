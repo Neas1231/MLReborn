{
 "cells": [
  {
   "cell_type": "code",
   "execution_count": null,
   "id": "118d89b9",
   "metadata": {},
   "outputs": [],
   "source": [
    "patterns = \"[0-9!#$%&'()*+,./:;<=>?@[\\]^_`{|}~—\\\"\\-]+\"\n",
    "stopwords_ru = stopwords.words(\"russian\")\n",
    "morph = MorphAnalyzer()\n",
    "def lemmatize(doc):\n",
    "    doc = re.sub(patterns, ' ', doc)\n",
    "    tokens = []\n",
    "    for token in doc.split():\n",
    "        if token and token not in stopwords_ru:\n",
    "            token = token.strip()\n",
    "            token = morph.normal_forms(token)[0]\n",
    "            \n",
    "            tokens.append(token)\n",
    "    #if len(tokens) > 2:\n",
    "    return tokens\n",
    "    #return None\n",
    "    \n",
    "df_cop['address'] = df_cop['address'].apply(lemmatize)\n",
    "\n",
    "def concat(text):\n",
    "    text= ' '.join(text)\n",
    "    return text\n",
    "\n",
    "df_cop['address'] = df_cop['address'].apply(concat)\n",
    "\n",
    "from sklearn.feature_extraction.text import CountVectorizer\n",
    "from nltk.corpus import stopwords\n",
    "count_vect = CountVectorizer()\n",
    "X_counts = count_vect.fit_transform(df_cop['address'])\n",
    "X_counts.shape\n",
    "\n",
    "from sklearn.feature_extraction.text import TfidfTransformer\n",
    "tf_transformer = TfidfTransformer().fit(X_counts)\n",
    "X_tfidf = tf_transformer.transform(X_counts)\n",
    "X_tfidf.shape\n",
    "\n",
    "from sklearn.decomposition import TruncatedSVD\n",
    "clf = TruncatedSVD(5)\n",
    "Xpca = clf.fit_transform(X_tfidf)\n",
    "Xpca"
   ]
  },
  {
   "cell_type": "code",
   "execution_count": null,
   "id": "c55e689e904d81de",
   "metadata": {
    "collapsed": false,
    "jupyter": {
     "outputs_hidden": false
    }
   },
   "outputs": [],
   "source": [
    "import nltk\n",
    "nltk.download('stopwords')\n",
    "nltk.download('punkt')\n",
    "from nltk.corpus import stopwords\n",
    "from nltk.stem.porter import PorterStemmer\n",
    "from nltk.tokenize import word_tokenize\n",
    "from pymorphy3 import MorphAnalyzer\n",
    "import re\n",
    "patterns = \"[A-Za-z0-9!#$%&'()*+,./:;<=>?@[\\]^_`{|}~—\\\"\\-]+\"\n",
    "stopwords_ru = stopwords.words(\"russian\")\n",
    "morph = MorphAnalyzer()\n",
    "stemmer = PorterStemmer()\n",
    "def lemmatize(text):\n",
    "    doc = re.sub(patterns, ' ', text)\n",
    "    tokens = word_tokenize(doc, language='russian')\n",
    "    lemmas = [morph.parse(token)[0].normal_form for token in tokens if token.lower() not in stopwords_ru]\n",
    "    stems = [stemmer.stem(token) for token in tokens]\n",
    "    return stems\n",
    "\n",
    "\n",
    "df_cop['comment'] = df_cop['comment'].apply(lemmatize)"
   ]
  },
  {
   "cell_type": "code",
   "execution_count": null,
   "id": "608c150553c7bbdd",
   "metadata": {
    "collapsed": false,
    "jupyter": {
     "outputs_hidden": false
    }
   },
   "outputs": [],
   "source": [
    "author_data['text_clean'] = author_data['text'].replace(r'[^\\w\\s]',' ',regex=True).replace(r'\\s+',' ',regex=True).str.lower()\n",
    "author_data['text_clean'].head()"
   ]
  },
  {
   "cell_type": "code",
   "execution_count": null,
   "id": "1678fe256dd5634f",
   "metadata": {
    "collapsed": false,
    "jupyter": {
     "outputs_hidden": false
    }
   },
   "outputs": [],
   "source": []
  },
  {
   "cell_type": "markdown",
   "id": "72a95c6221a3ee9e",
   "metadata": {
    "collapsed": false,
    "jupyter": {
     "outputs_hidden": false
    }
   },
   "source": [
    "https://www.geeksforgeeks.org/python-efficient-text-data-cleaning/"
   ]
  },
  {
   "cell_type": "code",
   "execution_count": null,
   "id": "6a06e95dfbb7c026",
   "metadata": {
    "collapsed": false,
    "jupyter": {
     "outputs_hidden": false
    }
   },
   "outputs": [],
   "source": [
    " pip install autocorrect"
   ]
  }
 ],
 "metadata": {
  "kernelspec": {
   "display_name": "Python 3 (ipykernel)",
   "language": "python",
   "name": "python3"
  },
  "language_info": {
   "codemirror_mode": {
    "name": "ipython",
    "version": 3
   },
   "file_extension": ".py",
   "mimetype": "text/x-python",
   "name": "python",
   "nbconvert_exporter": "python",
   "pygments_lexer": "ipython3",
   "version": "3.11.7"
  }
 },
 "nbformat": 4,
 "nbformat_minor": 5
}
